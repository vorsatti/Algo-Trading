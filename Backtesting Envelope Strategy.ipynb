{
 "cells": [
  {
   "cell_type": "code",
   "execution_count": 1,
   "metadata": {},
   "outputs": [],
   "source": [
    "import numpy as np\n",
    "import pandas as pd\n",
    "import oandapyV20\n",
    "import oandapyV20.endpoints.instruments as instruments\n",
    "import matplotlib.dates as mpl_dates\n",
    "import matplotlib.pyplot as plt\n",
    "from mpl_finance import candlestick_ohlc\n",
    "import datetime\n",
    "import zulu\n",
    "import os\n",
    "pd.set_option('display.float_format', '{:.4f}'.format)\n",
    "\n",
    "ID = '101-004-9949998-001'\n",
    "token = '4900a27fe17ab573d490ce234465329f-6633f44d08bf25b48ceaacd2c7917674'\n",
    "\n",
    "client = oandapyV20.API(access_token=token)"
   ]
  },
  {
   "cell_type": "code",
   "execution_count": 2,
   "metadata": {},
   "outputs": [],
   "source": [
    "# Loop to create the dataset\n",
    "Date = pd.Series(datetime.datetime(2010, 1, 1, 0, 0, 0))\n",
    "eurusd = pd.DataFrame()\n",
    "\n",
    "\n",
    "while Date.iloc[-1].year != 2020 or Date.iloc[-1].month != 5:\n",
    "    \n",
    "    last = Date.iloc[-1]\n",
    "    inizio = last + datetime.timedelta(minutes=5)\n",
    "    inizio = zulu.create(inizio.year, inizio.month, inizio.day, inizio.hour, inizio.minute)\n",
    "    inizio = inizio.isoformat('T')+'Z'\n",
    "    inizio = str(inizio[:-8] + 'Z')\n",
    "\n",
    "    params = {\n",
    "            \"from\": inizio,\n",
    "            \"granularity\": \"M5\"}\n",
    "\n",
    "    r = instruments.InstrumentsCandles(instrument=\"EUR_USD\",\n",
    "                                       params=params)\n",
    "\n",
    "    rv = client.request(r)\n",
    "\n",
    "    newDat = []\n",
    "    for oo in r.response['candles']:\n",
    "        newDat.append([oo['time'], oo['mid']['o'], oo['mid']['h'], oo['mid']['l'], oo['mid']['c']])\n",
    "    \n",
    "    newEurusd = pd.DataFrame(newDat)\n",
    "    newEurusd.columns = ['Time', 'Open', 'High', 'Low', 'Close']\n",
    "    newEurusd[\"Time\"] = pd.to_datetime(newEurusd['Time'])\n",
    "    Date = Date.append(newEurusd['Time'])\n",
    "    eurusd = eurusd.append(newEurusd)"
   ]
  },
  {
   "cell_type": "code",
   "execution_count": 3,
   "metadata": {},
   "outputs": [
    {
     "data": {
      "text/html": [
       "<div>\n",
       "<style scoped>\n",
       "    .dataframe tbody tr th:only-of-type {\n",
       "        vertical-align: middle;\n",
       "    }\n",
       "\n",
       "    .dataframe tbody tr th {\n",
       "        vertical-align: top;\n",
       "    }\n",
       "\n",
       "    .dataframe thead th {\n",
       "        text-align: right;\n",
       "    }\n",
       "</style>\n",
       "<table border=\"1\" class=\"dataframe\">\n",
       "  <thead>\n",
       "    <tr style=\"text-align: right;\">\n",
       "      <th></th>\n",
       "      <th>Time</th>\n",
       "      <th>Open</th>\n",
       "      <th>High</th>\n",
       "      <th>Low</th>\n",
       "      <th>Close</th>\n",
       "    </tr>\n",
       "  </thead>\n",
       "  <tbody>\n",
       "    <tr>\n",
       "      <th>0</th>\n",
       "      <td>2010-01-03 17:50:00</td>\n",
       "      <td>1.43120</td>\n",
       "      <td>1.43120</td>\n",
       "      <td>1.43120</td>\n",
       "      <td>1.43120</td>\n",
       "    </tr>\n",
       "    <tr>\n",
       "      <th>1</th>\n",
       "      <td>2010-01-03 17:55:00</td>\n",
       "      <td>1.43172</td>\n",
       "      <td>1.43172</td>\n",
       "      <td>1.43172</td>\n",
       "      <td>1.43172</td>\n",
       "    </tr>\n",
       "    <tr>\n",
       "      <th>2</th>\n",
       "      <td>2010-01-03 18:00:00</td>\n",
       "      <td>1.43172</td>\n",
       "      <td>1.43328</td>\n",
       "      <td>1.43172</td>\n",
       "      <td>1.43328</td>\n",
       "    </tr>\n",
       "    <tr>\n",
       "      <th>3</th>\n",
       "      <td>2010-01-03 18:05:00</td>\n",
       "      <td>1.43323</td>\n",
       "      <td>1.43425</td>\n",
       "      <td>1.43150</td>\n",
       "      <td>1.43150</td>\n",
       "    </tr>\n",
       "    <tr>\n",
       "      <th>4</th>\n",
       "      <td>2010-01-03 18:10:00</td>\n",
       "      <td>1.43105</td>\n",
       "      <td>1.43150</td>\n",
       "      <td>1.43105</td>\n",
       "      <td>1.43110</td>\n",
       "    </tr>\n",
       "  </tbody>\n",
       "</table>\n",
       "</div>"
      ],
      "text/plain": [
       "                 Time     Open     High      Low    Close\n",
       "0 2010-01-03 17:50:00  1.43120  1.43120  1.43120  1.43120\n",
       "1 2010-01-03 17:55:00  1.43172  1.43172  1.43172  1.43172\n",
       "2 2010-01-03 18:00:00  1.43172  1.43328  1.43172  1.43328\n",
       "3 2010-01-03 18:05:00  1.43323  1.43425  1.43150  1.43150\n",
       "4 2010-01-03 18:10:00  1.43105  1.43150  1.43105  1.43110"
      ]
     },
     "execution_count": 3,
     "metadata": {},
     "output_type": "execute_result"
    }
   ],
   "source": [
    "eurusd.head()"
   ]
  },
  {
   "cell_type": "code",
   "execution_count": 131,
   "metadata": {},
   "outputs": [],
   "source": [
    "#eurusd.to_csv(os.getcwd()+'\\\\eurusd5min.csv')\n",
    "eurusd = pd.read_csv(os.getcwd()+'\\\\eurusd5min.csv', index_col=0)"
   ]
  },
  {
   "cell_type": "code",
   "execution_count": 132,
   "metadata": {},
   "outputs": [],
   "source": [
    "# Exponential Moving Averages\n",
    "eurusd[\"ema40\"] = eurusd[\"Close\"].ewm(span=40, min_periods=40, adjust=False).mean()\n",
    "deviation = 0.0015\n",
    "eurusd[\"UL\"] = eurusd[\"ema40\"] + (eurusd[\"ema40\"] * deviation)\n",
    "eurusd[\"LL\"] = eurusd[\"ema40\"] - (eurusd[\"ema40\"] * deviation)"
   ]
  },
  {
   "cell_type": "code",
   "execution_count": 133,
   "metadata": {},
   "outputs": [],
   "source": [
    "eurusd = eurusd.iloc[39:]\n",
    "eurusd.index = range(eurusd.shape[0])"
   ]
  },
  {
   "cell_type": "code",
   "execution_count": 134,
   "metadata": {},
   "outputs": [
    {
     "data": {
      "text/html": [
       "<div>\n",
       "<style scoped>\n",
       "    .dataframe tbody tr th:only-of-type {\n",
       "        vertical-align: middle;\n",
       "    }\n",
       "\n",
       "    .dataframe tbody tr th {\n",
       "        vertical-align: top;\n",
       "    }\n",
       "\n",
       "    .dataframe thead th {\n",
       "        text-align: right;\n",
       "    }\n",
       "</style>\n",
       "<table border=\"1\" class=\"dataframe\">\n",
       "  <thead>\n",
       "    <tr style=\"text-align: right;\">\n",
       "      <th></th>\n",
       "      <th>Time</th>\n",
       "      <th>Open</th>\n",
       "      <th>High</th>\n",
       "      <th>Low</th>\n",
       "      <th>Close</th>\n",
       "      <th>ema40</th>\n",
       "      <th>UL</th>\n",
       "      <th>LL</th>\n",
       "    </tr>\n",
       "  </thead>\n",
       "  <tbody>\n",
       "    <tr>\n",
       "      <th>0</th>\n",
       "      <td>2010-01-03 21:05:00</td>\n",
       "      <td>1.4308</td>\n",
       "      <td>1.4309</td>\n",
       "      <td>1.4308</td>\n",
       "      <td>1.4308</td>\n",
       "      <td>1.4313</td>\n",
       "      <td>1.4335</td>\n",
       "      <td>1.4292</td>\n",
       "    </tr>\n",
       "    <tr>\n",
       "      <th>1</th>\n",
       "      <td>2010-01-03 21:10:00</td>\n",
       "      <td>1.4309</td>\n",
       "      <td>1.4311</td>\n",
       "      <td>1.4309</td>\n",
       "      <td>1.4310</td>\n",
       "      <td>1.4313</td>\n",
       "      <td>1.4334</td>\n",
       "      <td>1.4291</td>\n",
       "    </tr>\n",
       "    <tr>\n",
       "      <th>2</th>\n",
       "      <td>2010-01-03 21:15:00</td>\n",
       "      <td>1.4310</td>\n",
       "      <td>1.4311</td>\n",
       "      <td>1.4310</td>\n",
       "      <td>1.4311</td>\n",
       "      <td>1.4313</td>\n",
       "      <td>1.4334</td>\n",
       "      <td>1.4291</td>\n",
       "    </tr>\n",
       "    <tr>\n",
       "      <th>3</th>\n",
       "      <td>2010-01-03 21:20:00</td>\n",
       "      <td>1.4311</td>\n",
       "      <td>1.4311</td>\n",
       "      <td>1.4307</td>\n",
       "      <td>1.4308</td>\n",
       "      <td>1.4313</td>\n",
       "      <td>1.4334</td>\n",
       "      <td>1.4291</td>\n",
       "    </tr>\n",
       "    <tr>\n",
       "      <th>4</th>\n",
       "      <td>2010-01-03 21:25:00</td>\n",
       "      <td>1.4308</td>\n",
       "      <td>1.4309</td>\n",
       "      <td>1.4308</td>\n",
       "      <td>1.4308</td>\n",
       "      <td>1.4312</td>\n",
       "      <td>1.4334</td>\n",
       "      <td>1.4291</td>\n",
       "    </tr>\n",
       "  </tbody>\n",
       "</table>\n",
       "</div>"
      ],
      "text/plain": [
       "                  Time   Open   High    Low  Close  ema40     UL     LL\n",
       "0  2010-01-03 21:05:00 1.4308 1.4309 1.4308 1.4308 1.4313 1.4335 1.4292\n",
       "1  2010-01-03 21:10:00 1.4309 1.4311 1.4309 1.4310 1.4313 1.4334 1.4291\n",
       "2  2010-01-03 21:15:00 1.4310 1.4311 1.4310 1.4311 1.4313 1.4334 1.4291\n",
       "3  2010-01-03 21:20:00 1.4311 1.4311 1.4307 1.4308 1.4313 1.4334 1.4291\n",
       "4  2010-01-03 21:25:00 1.4308 1.4309 1.4308 1.4308 1.4312 1.4334 1.4291"
      ]
     },
     "execution_count": 134,
     "metadata": {},
     "output_type": "execute_result"
    }
   ],
   "source": [
    "eurusd.head(5)"
   ]
  },
  {
   "cell_type": "code",
   "execution_count": 135,
   "metadata": {},
   "outputs": [],
   "source": [
    "eurusd[\"buyTrigger\"] = 0\n",
    "eurusd[\"buyWin\"] = 0 \n",
    "eurusd[\"sellTrigger\"] = 0 \n",
    "eurusd[\"sellWin\"] = 0 \n",
    "\n",
    "eurusd[\"buyTrigger\"] = np.where(eurusd[\"Close\"] < eurusd[\"LL\"], 1,0)\n",
    "eurusd[\"buyWin\"] = np.where(eurusd[\"Close\"] > eurusd[\"UL\"], 1,0)\n",
    "eurusd[\"sellTrigger\"] = np.where(eurusd[\"Close\"] > eurusd[\"UL\"], 1,0)\n",
    "eurusd[\"sellWin\"] = np.where(eurusd[\"Close\"] < eurusd[\"LL\"], 1,0)"
   ]
  },
  {
   "cell_type": "code",
   "execution_count": 260,
   "metadata": {},
   "outputs": [],
   "source": [
    "eurusdBuy = eurusd.drop([\"sellTrigger\",\"sellWin\"], axis=1)\n",
    "eurusdSell = eurusd.drop([\"buyTrigger\",\"buyWin\"], axis=1)"
   ]
  },
  {
   "cell_type": "markdown",
   "metadata": {},
   "source": [
    "### Long"
   ]
  },
  {
   "cell_type": "code",
   "execution_count": 261,
   "metadata": {},
   "outputs": [],
   "source": [
    "# To start the dataset with a buyTrigger==1\n",
    "eurusdBuy = eurusdBuy.iloc[37:]\n",
    "eurusdBuy.index = range(eurusdBuy.shape[0])"
   ]
  },
  {
   "cell_type": "code",
   "execution_count": 262,
   "metadata": {
    "scrolled": true
   },
   "outputs": [],
   "source": [
    "splits = np.append(np.where(np.diff(eurusdBuy[\"buyWin\"]) != 0)[0]+1,len(eurusdBuy[\"buyWin\"]))\n",
    "prev = 0\n",
    "price = []\n",
    "exit = []\n",
    "totSize = []\n",
    "tradeCount = []\n",
    "time = []\n",
    "totFees = []\n",
    "z=0 #element just to check that the for loop is running\n",
    "\n",
    "for split in splits[:-2]:\n",
    "    \n",
    "    z=z+1\n",
    "    indici = []\n",
    "    indiciWhereBuy = []\n",
    "    entryList = []\n",
    "    sizeList = []\n",
    "    fees = []\n",
    "    size=2000\n",
    "    \n",
    "    indici = np.arange(0,eurusdBuy[\"buyTrigger\"].size,1)[prev:split]\n",
    "    indiciWhereBuy = np.where(eurusdBuy[\"buyTrigger\"].loc[indici]==1)[0]\n",
    "    indiciWhereBuy = indiciWhereBuy + prev\n",
    "    if len(indiciWhereBuy)>0:\n",
    "        lastEntry = eurusdBuy[\"Close\"].loc[indiciWhereBuy[0]]\n",
    "        for i in range(len(indiciWhereBuy)-1):\n",
    "            if eurusdBuy[\"Close\"].loc[indiciWhereBuy[i+1]] < lastEntry - 0.0005:\n",
    "                lastEntry = eurusdBuy[\"Close\"].loc[indiciWhereBuy[i+1]]\n",
    "                size=size*1.25\n",
    "                entryList.append(lastEntry * size)\n",
    "                sizeList.append(size)\n",
    "                fees.append(size*0.00008)\n",
    "        \n",
    "        price.append(sum(entryList))\n",
    "        totSize.append(sum(sizeList))\n",
    "        tradeCount.append(len(entryList))\n",
    "        exit.append(eurusdBuy[\"High\"][split])\n",
    "        totFees.append(sum(fees))\n",
    "        time.append(eurusdBuy[\"Time\"].loc[prev])\n",
    "    \n",
    "        prev = split"
   ]
  },
  {
   "cell_type": "code",
   "execution_count": 278,
   "metadata": {},
   "outputs": [],
   "source": [
    "data = {\"Time\": time, 'Price':price, 'Exit':exit, 'TradeExecuted':tradeCount, 'Size':totSize, \"Fees\":totFees}\n",
    "long = pd.DataFrame(data=data, index=range(len(time)))"
   ]
  },
  {
   "cell_type": "code",
   "execution_count": 279,
   "metadata": {},
   "outputs": [],
   "source": [
    "long = long[long[\"TradeExecuted\"]!=0]"
   ]
  },
  {
   "cell_type": "code",
   "execution_count": 280,
   "metadata": {
    "scrolled": true
   },
   "outputs": [],
   "source": [
    "long[\"AveragePrice\"] = long[\"Price\"]/long[\"Size\"]\n",
    "long = long[[\"Time\", \"AveragePrice\", 'Exit', 'TradeExecuted', 'Size', \"Fees\"]]\n",
    "long['Pips'] = (long[\"Exit\"] - long[\"AveragePrice\"])*10000\n",
    "long[\"P/L\"] = long[\"Size\"]*(long[\"Exit\"] - long[\"AveragePrice\"])-long[\"Fees\"]"
   ]
  },
  {
   "cell_type": "code",
   "execution_count": 281,
   "metadata": {},
   "outputs": [
    {
     "data": {
      "text/plain": [
       "6454348.5"
      ]
     },
     "execution_count": 281,
     "metadata": {},
     "output_type": "execute_result"
    }
   ],
   "source": [
    "# Due to my account equity, it's unrealistic that I will be able to average down my entry opening 30 trades\n",
    "size=2000\n",
    "sizeList = []\n",
    "for i in range(30):\n",
    "    sizeList.append(size)\n",
    "    size = size*1.25\n",
    "\n",
    "round(sum(sizeList),1)"
   ]
  },
  {
   "cell_type": "code",
   "execution_count": 282,
   "metadata": {
    "scrolled": true
   },
   "outputs": [
    {
     "name": "stdout",
     "output_type": "stream",
     "text": [
      "the avg positive P/L when I would avg down my entry with more than 10 trades is 2555\n",
      "the avg negative P/L when I would avg down my entry with more than 10 trades is -488\n",
      "the avg positive P/L when I would avg down my entry with less than 10 trades is 59\n",
      "the avg negative P/L when I would avg down my entry with less than 10 trades is -36\n",
      "the avg positive P/L when I would avg down my entry with 10 trades is 245\n",
      "the avg negative P/L when I would avg down my entry with 10 trades is -281\n",
      "the avg positive P/L when I would avg down my entry with 8-11 trades is 186\n",
      "the avg negative P/L when I would avg down my entry with 8-11 trades is -67\n"
     ]
    }
   ],
   "source": [
    "postiveAvg = long[\"P/L\"][(long[\"TradeExecuted\"]>10) & (long[\"P/L\"]>0)].mean()\n",
    "negativeAvg = long[\"P/L\"][(long[\"TradeExecuted\"]>10) & (long[\"P/L\"]<0)].mean()\n",
    "print(\"the avg positive P/L when I would avg down my entry with more than 10 trades is \" + str(round(postiveAvg)))\n",
    "print(\"the avg negative P/L when I would avg down my entry with more than 10 trades is \" + str(round(negativeAvg)))\n",
    "\n",
    "postiveAvg = long[\"P/L\"][(long[\"TradeExecuted\"]<10) & (long[\"P/L\"]>0)].mean()\n",
    "negativeAvg = long[\"P/L\"][(long[\"TradeExecuted\"]<10) & (long[\"P/L\"]<0)].mean()\n",
    "print(\"the avg positive P/L when I would avg down my entry with less than 10 trades is \" + str(round(postiveAvg)))\n",
    "print(\"the avg negative P/L when I would avg down my entry with less than 10 trades is \" + str(round(negativeAvg)))\n",
    "\n",
    "postiveAvg = long[\"P/L\"][(long[\"TradeExecuted\"]==10) & (long[\"P/L\"]>0)].mean()\n",
    "negativeAvg = long[\"P/L\"][(long[\"TradeExecuted\"]==10) & (long[\"P/L\"]<0)].mean()\n",
    "print(\"the avg positive P/L when I would avg down my entry with 10 trades is \" + str(round(postiveAvg)))\n",
    "print(\"the avg negative P/L when I would avg down my entry with 10 trades is \" + str(round(negativeAvg)))\n",
    "\n",
    "postiveAvg = long[\"P/L\"][(long[\"TradeExecuted\"]>7) & (long[\"TradeExecuted\"]<12) & (long[\"P/L\"]>0)].mean()\n",
    "negativeAvg = long[\"P/L\"][(long[\"TradeExecuted\"]>7) & (long[\"TradeExecuted\"]<12) & (long[\"P/L\"]<0)].mean()\n",
    "print(\"the avg positive P/L when I would avg down my entry with 8-11 trades is \" + str(round(postiveAvg)))\n",
    "print(\"the avg negative P/L when I would avg down my entry with 8-11 trades is \" + str(round(negativeAvg)))"
   ]
  },
  {
   "cell_type": "code",
   "execution_count": 283,
   "metadata": {},
   "outputs": [
    {
     "name": "stderr",
     "output_type": "stream",
     "text": [
      "C:\\Users\\HP\\Anaconda3\\lib\\site-packages\\pandas\\core\\indexing.py:189: SettingWithCopyWarning: \n",
      "A value is trying to be set on a copy of a slice from a DataFrame\n",
      "\n",
      "See the caveats in the documentation: http://pandas.pydata.org/pandas-docs/stable/indexing.html#indexing-view-versus-copy\n",
      "  self._setitem_with_indexer(indexer, value)\n"
     ]
    },
    {
     "data": {
      "text/html": [
       "<div>\n",
       "<style scoped>\n",
       "    .dataframe tbody tr th:only-of-type {\n",
       "        vertical-align: middle;\n",
       "    }\n",
       "\n",
       "    .dataframe tbody tr th {\n",
       "        vertical-align: top;\n",
       "    }\n",
       "\n",
       "    .dataframe thead th {\n",
       "        text-align: right;\n",
       "    }\n",
       "</style>\n",
       "<table border=\"1\" class=\"dataframe\">\n",
       "  <thead>\n",
       "    <tr style=\"text-align: right;\">\n",
       "      <th></th>\n",
       "      <th>Time</th>\n",
       "      <th>AveragePrice</th>\n",
       "      <th>Exit</th>\n",
       "      <th>TradeExecuted</th>\n",
       "      <th>Size</th>\n",
       "      <th>Fees</th>\n",
       "      <th>Pips</th>\n",
       "      <th>P/L</th>\n",
       "    </tr>\n",
       "  </thead>\n",
       "  <tbody>\n",
       "    <tr>\n",
       "      <th>0</th>\n",
       "      <td>2010-01-04 00:10:00</td>\n",
       "      <td>1.4267</td>\n",
       "      <td>1.4320</td>\n",
       "      <td>3</td>\n",
       "      <td>9531.2500</td>\n",
       "      <td>0.7625</td>\n",
       "      <td>52.7377</td>\n",
       "      <td>49.5031</td>\n",
       "    </tr>\n",
       "    <tr>\n",
       "      <th>1</th>\n",
       "      <td>2010-01-04 08:00:00</td>\n",
       "      <td>1.4413</td>\n",
       "      <td>1.4452</td>\n",
       "      <td>1</td>\n",
       "      <td>2500.0000</td>\n",
       "      <td>0.2000</td>\n",
       "      <td>38.8000</td>\n",
       "      <td>9.5000</td>\n",
       "    </tr>\n",
       "    <tr>\n",
       "      <th>2</th>\n",
       "      <td>2010-01-05 12:40:00</td>\n",
       "      <td>1.4334</td>\n",
       "      <td>1.4371</td>\n",
       "      <td>7</td>\n",
       "      <td>37683.7158</td>\n",
       "      <td>3.0147</td>\n",
       "      <td>36.9571</td>\n",
       "      <td>136.2534</td>\n",
       "    </tr>\n",
       "    <tr>\n",
       "      <th>3</th>\n",
       "      <td>2010-01-06 09:30:00</td>\n",
       "      <td>1.4305</td>\n",
       "      <td>1.4370</td>\n",
       "      <td>11</td>\n",
       "      <td>106415.3218</td>\n",
       "      <td>8.5132</td>\n",
       "      <td>64.8432</td>\n",
       "      <td>180.0000</td>\n",
       "    </tr>\n",
       "    <tr>\n",
       "      <th>4</th>\n",
       "      <td>2010-01-13 11:00:00</td>\n",
       "      <td>1.4495</td>\n",
       "      <td>1.4539</td>\n",
       "      <td>4</td>\n",
       "      <td>14414.0625</td>\n",
       "      <td>1.1531</td>\n",
       "      <td>44.7886</td>\n",
       "      <td>63.4055</td>\n",
       "    </tr>\n",
       "  </tbody>\n",
       "</table>\n",
       "</div>"
      ],
      "text/plain": [
       "                  Time  AveragePrice   Exit  TradeExecuted        Size   Fees  \\\n",
       "0  2010-01-04 00:10:00        1.4267 1.4320              3   9531.2500 0.7625   \n",
       "1  2010-01-04 08:00:00        1.4413 1.4452              1   2500.0000 0.2000   \n",
       "2  2010-01-05 12:40:00        1.4334 1.4371              7  37683.7158 3.0147   \n",
       "3  2010-01-06 09:30:00        1.4305 1.4370             11 106415.3218 8.5132   \n",
       "4  2010-01-13 11:00:00        1.4495 1.4539              4  14414.0625 1.1531   \n",
       "\n",
       "     Pips      P/L  \n",
       "0 52.7377  49.5031  \n",
       "1 38.8000   9.5000  \n",
       "2 36.9571 136.2534  \n",
       "3 64.8432 180.0000  \n",
       "4 44.7886  63.4055  "
      ]
     },
     "execution_count": 283,
     "metadata": {},
     "output_type": "execute_result"
    }
   ],
   "source": [
    "# Keep trades with 10 or less entries\n",
    "long[\"P/L\"].loc[(long[\"TradeExecuted\"]>10) & (long[\"P/L\"]>0)] = 180\n",
    "long[\"P/L\"].loc[(long[\"TradeExecuted\"]>10) & (long[\"P/L\"]<0)] = -70\n",
    "\n",
    "long.index = range(long.shape[0])\n",
    "\n",
    "long.head(5)"
   ]
  },
  {
   "cell_type": "code",
   "execution_count": 285,
   "metadata": {},
   "outputs": [],
   "source": [
    "#long.to_csv(os.getcwd()+'\\\\eurusd_long.csv')\n",
    "long = pd.read_csv(os.getcwd()+'\\\\eurusd_long.csv', index_col=0)"
   ]
  },
  {
   "cell_type": "code",
   "execution_count": 284,
   "metadata": {},
   "outputs": [
    {
     "data": {
      "text/plain": [
       "103478.0"
      ]
     },
     "execution_count": 284,
     "metadata": {},
     "output_type": "execute_result"
    }
   ],
   "source": [
    "round(long[\"P/L\"].sum())"
   ]
  },
  {
   "cell_type": "code",
   "execution_count": 286,
   "metadata": {
    "scrolled": false
   },
   "outputs": [
    {
     "data": {
      "image/png": "[encoded data removed]",
      "text/plain": [
       "<Figure size 1872x720 with 1 Axes>"
      ]
     },
     "metadata": {},
     "output_type": "display_data"
    }
   ],
   "source": [
    "PL = pd.Series(np.cumsum(long[\"P/L\"]))\n",
    "\n",
    "\n",
    "plt.figure(figsize=(26, 10), facecolor='w', edgecolor='k');\n",
    "PL.plot(color='blue');\n",
    "plt.title(\"P/L of Longs using the Envelope Strategy\", loc='center', pad=None)\n",
    "plt.ylabel(\"$\");\n",
    "plt.xlabel(\"Number of Trades\");\n",
    "plt.rcParams.update({'font.size': 20})"
   ]
  },
  {
   "cell_type": "code",
   "execution_count": 287,
   "metadata": {},
   "outputs": [
    {
     "data": {
      "text/plain": [
       "269.5344017028795"
      ]
     },
     "execution_count": 287,
     "metadata": {},
     "output_type": "execute_result"
    }
   ],
   "source": [
    "long[\"P/L\"].loc[long[\"P/L\"].idxmax()]"
   ]
  },
  {
   "cell_type": "code",
   "execution_count": 288,
   "metadata": {},
   "outputs": [
    {
     "data": {
      "text/plain": [
       "-110.30972595214888"
      ]
     },
     "execution_count": 288,
     "metadata": {},
     "output_type": "execute_result"
    }
   ],
   "source": [
    "long[\"P/L\"].loc[long[\"P/L\"].idxmin()]"
   ]
  }
 ],
 "metadata": {
  "kernelspec": {
   "display_name": "Python 3",
   "language": "python",
   "name": "python3"
  },
  "language_info": {
   "codemirror_mode": {
    "name": "ipython",
    "version": 3
   },
   "file_extension": ".py",
   "mimetype": "text/x-python",
   "name": "python",
   "nbconvert_exporter": "python",
   "pygments_lexer": "ipython3",
   "version": "3.7.1"
  }
 },
 "nbformat": 4,
 "nbformat_minor": 2
}
