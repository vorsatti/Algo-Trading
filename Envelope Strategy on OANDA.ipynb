{
 "cells": [
  {
   "cell_type": "markdown",
   "metadata": {},
   "source": [
    "# Envelopes Strategy"
   ]
  },
  {
   "cell_type": "markdown",
   "metadata": {},
   "source": [
    "### Example of 100 candles of 15 min"
   ]
  },
  {
   "cell_type": "code",
   "execution_count": 336,
   "metadata": {
    "scrolled": false
   },
   "outputs": [],
   "source": [
    "#!pip install oandapyV20"
   ]
  },
  {
   "cell_type": "code",
   "execution_count": 337,
   "metadata": {},
   "outputs": [],
   "source": [
    "#!pip install zulu"
   ]
  },
  {
   "cell_type": "code",
   "execution_count": 338,
   "metadata": {},
   "outputs": [],
   "source": [
    "#!pip install mpl_finance"
   ]
  },
  {
   "cell_type": "code",
   "execution_count": 1,
   "metadata": {},
   "outputs": [],
   "source": [
    "import numpy as np\n",
    "import pandas as pd\n",
    "import oandapyV20\n",
    "import oandapyV20.endpoints.instruments as instruments\n",
    "import matplotlib.dates as mpl_dates\n",
    "import matplotlib.pyplot as plt\n",
    "from mpl_finance import candlestick_ohlc\n",
    "import datetime\n",
    "import zulu\n",
    "import os\n",
    "\n",
    "pd.set_option('display.float_format', '{:.4f}'.format)"
   ]
  },
  {
   "cell_type": "code",
   "execution_count": 2,
   "metadata": {},
   "outputs": [],
   "source": [
    "ID = '1XX-XXX-XXXXXXX-XX1'\n",
    "token = '49XXXXXXXXXXXXXXXXXXXXXXXXXXXXXXXXXXXXXXXXXXXXXXXXXXXXXXXXXXX74'"
   ]
  },
  {
   "cell_type": "code",
   "execution_count": 3,
   "metadata": {},
   "outputs": [],
   "source": [
    "client = oandapyV20.API(access_token=token)"
   ]
  },
  {
   "cell_type": "code",
   "execution_count": 4,
   "metadata": {},
   "outputs": [],
   "source": [
    "params = {\n",
    "          \"count\": 100,\n",
    "          \"granularity\": \"M15\"}"
   ]
  },
  {
   "cell_type": "code",
   "execution_count": 5,
   "metadata": {},
   "outputs": [],
   "source": [
    "r = instruments.InstrumentsCandles(instrument=\"EUR_USD\",\n",
    "                                   params=params)"
   ]
  },
  {
   "cell_type": "code",
   "execution_count": 6,
   "metadata": {},
   "outputs": [],
   "source": [
    "rv = client.request(r)"
   ]
  },
  {
   "cell_type": "code",
   "execution_count": 7,
   "metadata": {},
   "outputs": [],
   "source": [
    "dat = []\n",
    "for oo in r.response['candles']:\n",
    "    dat.append([oo['time'], oo['mid']['o'], oo['mid']['h'], oo['mid']['l'], oo['mid']['c']])"
   ]
  },
  {
   "cell_type": "code",
   "execution_count": 8,
   "metadata": {
    "scrolled": true
   },
   "outputs": [
    {
     "data": {
      "text/html": [
       "<div>\n",
       "<style scoped>\n",
       "    .dataframe tbody tr th:only-of-type {\n",
       "        vertical-align: middle;\n",
       "    }\n",
       "\n",
       "    .dataframe tbody tr th {\n",
       "        vertical-align: top;\n",
       "    }\n",
       "\n",
       "    .dataframe thead th {\n",
       "        text-align: right;\n",
       "    }\n",
       "</style>\n",
       "<table border=\"1\" class=\"dataframe\">\n",
       "  <thead>\n",
       "    <tr style=\"text-align: right;\">\n",
       "      <th></th>\n",
       "      <th>Time</th>\n",
       "      <th>Open</th>\n",
       "      <th>High</th>\n",
       "      <th>Low</th>\n",
       "      <th>Close</th>\n",
       "    </tr>\n",
       "  </thead>\n",
       "  <tbody>\n",
       "    <tr>\n",
       "      <th>0</th>\n",
       "      <td>737510.0833</td>\n",
       "      <td>1.0907</td>\n",
       "      <td>1.0911</td>\n",
       "      <td>1.0903</td>\n",
       "      <td>1.0904</td>\n",
       "    </tr>\n",
       "    <tr>\n",
       "      <th>1</th>\n",
       "      <td>737510.0938</td>\n",
       "      <td>1.0904</td>\n",
       "      <td>1.0906</td>\n",
       "      <td>1.0896</td>\n",
       "      <td>1.0898</td>\n",
       "    </tr>\n",
       "    <tr>\n",
       "      <th>2</th>\n",
       "      <td>737510.1042</td>\n",
       "      <td>1.0897</td>\n",
       "      <td>1.0902</td>\n",
       "      <td>1.0892</td>\n",
       "      <td>1.0899</td>\n",
       "    </tr>\n",
       "    <tr>\n",
       "      <th>3</th>\n",
       "      <td>737510.1146</td>\n",
       "      <td>1.0899</td>\n",
       "      <td>1.0915</td>\n",
       "      <td>1.0899</td>\n",
       "      <td>1.0915</td>\n",
       "    </tr>\n",
       "    <tr>\n",
       "      <th>4</th>\n",
       "      <td>737510.1250</td>\n",
       "      <td>1.0915</td>\n",
       "      <td>1.0919</td>\n",
       "      <td>1.0909</td>\n",
       "      <td>1.0912</td>\n",
       "    </tr>\n",
       "  </tbody>\n",
       "</table>\n",
       "</div>"
      ],
      "text/plain": [
       "         Time   Open   High    Low  Close\n",
       "0 737510.0833 1.0907 1.0911 1.0903 1.0904\n",
       "1 737510.0938 1.0904 1.0906 1.0896 1.0898\n",
       "2 737510.1042 1.0897 1.0902 1.0892 1.0899\n",
       "3 737510.1146 1.0899 1.0915 1.0899 1.0915\n",
       "4 737510.1250 1.0915 1.0919 1.0909 1.0912"
      ]
     },
     "execution_count": 8,
     "metadata": {},
     "output_type": "execute_result"
    }
   ],
   "source": [
    "df = pd.DataFrame(dat)\n",
    "df.columns = ['Time', 'Open', 'High', 'Low', 'Close']\n",
    "df[\"Time\"] = pd.to_datetime(df['Time'])\n",
    "df['Time'] = df['Time'].apply(mpl_dates.date2num)\n",
    "df = df.astype(float)\n",
    "#df = df.set_index('Time')\n",
    "df.head()"
   ]
  },
  {
   "cell_type": "code",
   "execution_count": 9,
   "metadata": {},
   "outputs": [],
   "source": [
    "plt.style.use('ggplot')"
   ]
  },
  {
   "cell_type": "code",
   "execution_count": 10,
   "metadata": {},
   "outputs": [
    {
     "data": {
      "image/png": "[encoded data removed]",
      "text/plain": [
       "<Figure size 432x288 with 1 Axes>"
      ]
     },
     "metadata": {},
     "output_type": "display_data"
    }
   ],
   "source": [
    "# Creating Subplots\n",
    "fig, ax = plt.subplots()\n",
    "\n",
    "candlestick_ohlc(ax, df.values, width=0.007, colorup='green', colordown='red', alpha=0.8)\n",
    "\n",
    "# Setting labels & titles\n",
    "ax.set_xlabel('Date')\n",
    "ax.set_ylabel('Price')\n",
    "fig.suptitle('15 Minutes Candlestick Chart of EUR/USD')\n",
    "\n",
    "# Formatting Date\n",
    "date_format = mpl_dates.DateFormatter('%d-%m-%Y/%H:%M:%S')\n",
    "ax.xaxis.set_major_formatter(date_format)\n",
    "fig.autofmt_xdate()\n",
    "\n",
    "fig.tight_layout()\n",
    "\n",
    "plt.show()"
   ]
  },
  {
   "cell_type": "markdown",
   "metadata": {},
   "source": [
    "## Envelope strategy on EURUSD"
   ]
  },
  {
   "cell_type": "code",
   "execution_count": 11,
   "metadata": {
    "scrolled": true
   },
   "outputs": [
    {
     "data": {
      "text/html": [
       "<div>\n",
       "<style scoped>\n",
       "    .dataframe tbody tr th:only-of-type {\n",
       "        vertical-align: middle;\n",
       "    }\n",
       "\n",
       "    .dataframe tbody tr th {\n",
       "        vertical-align: top;\n",
       "    }\n",
       "\n",
       "    .dataframe thead th {\n",
       "        text-align: right;\n",
       "    }\n",
       "</style>\n",
       "<table border=\"1\" class=\"dataframe\">\n",
       "  <thead>\n",
       "    <tr style=\"text-align: right;\">\n",
       "      <th></th>\n",
       "      <th>Time</th>\n",
       "      <th>Open</th>\n",
       "      <th>High</th>\n",
       "      <th>Low</th>\n",
       "      <th>Close</th>\n",
       "    </tr>\n",
       "  </thead>\n",
       "  <tbody>\n",
       "    <tr>\n",
       "      <th>0</th>\n",
       "      <td>733863.0000</td>\n",
       "      <td>1.3527</td>\n",
       "      <td>1.3546</td>\n",
       "      <td>1.3523</td>\n",
       "      <td>1.3541</td>\n",
       "    </tr>\n",
       "    <tr>\n",
       "      <th>1</th>\n",
       "      <td>733863.0104</td>\n",
       "      <td>1.3541</td>\n",
       "      <td>1.3562</td>\n",
       "      <td>1.3538</td>\n",
       "      <td>1.3552</td>\n",
       "    </tr>\n",
       "    <tr>\n",
       "      <th>2</th>\n",
       "      <td>733863.0208</td>\n",
       "      <td>1.3552</td>\n",
       "      <td>1.3554</td>\n",
       "      <td>1.3544</td>\n",
       "      <td>1.3546</td>\n",
       "    </tr>\n",
       "    <tr>\n",
       "      <th>3</th>\n",
       "      <td>733863.0312</td>\n",
       "      <td>1.3546</td>\n",
       "      <td>1.3547</td>\n",
       "      <td>1.3526</td>\n",
       "      <td>1.3530</td>\n",
       "    </tr>\n",
       "    <tr>\n",
       "      <th>4</th>\n",
       "      <td>733863.0417</td>\n",
       "      <td>1.3530</td>\n",
       "      <td>1.3530</td>\n",
       "      <td>1.3518</td>\n",
       "      <td>1.3518</td>\n",
       "    </tr>\n",
       "  </tbody>\n",
       "</table>\n",
       "</div>"
      ],
      "text/plain": [
       "         Time   Open   High    Low  Close\n",
       "0 733863.0000 1.3527 1.3546 1.3523 1.3541\n",
       "1 733863.0104 1.3541 1.3562 1.3538 1.3552\n",
       "2 733863.0208 1.3552 1.3554 1.3544 1.3546\n",
       "3 733863.0312 1.3546 1.3547 1.3526 1.3530\n",
       "4 733863.0417 1.3530 1.3530 1.3518 1.3518"
      ]
     },
     "execution_count": 11,
     "metadata": {},
     "output_type": "execute_result"
    }
   ],
   "source": [
    "# To do only to start the dataset\n",
    "params = {\n",
    "        \"from\": \"2010-04-01T00:00:00Z\",\n",
    "        \"granularity\": \"M15\"}\n",
    "\n",
    "r = instruments.InstrumentsCandles(instrument=\"EUR_USD\",\n",
    "                                   params=params)\n",
    "\n",
    "rv = client.request(r)\n",
    "\n",
    "dat = []\n",
    "for oo in r.response['candles']:\n",
    "    dat.append([oo['time'], oo['mid']['o'], oo['mid']['h'], oo['mid']['l'], oo['mid']['c']])\n",
    "    \n",
    "eurusd = pd.DataFrame(dat)\n",
    "eurusd.columns = ['Time', 'Open', 'High', 'Low', 'Close']\n",
    "eurusd[\"Time\"] = pd.to_datetime(eurusd['Time'])\n",
    "Date = eurusd['Time']\n",
    "eurusd['Time'] = eurusd['Time'].apply(mpl_dates.date2num)\n",
    "eurusd = eurusd.astype(float)\n",
    "eurusd.head()"
   ]
  },
  {
   "cell_type": "code",
   "execution_count": 12,
   "metadata": {},
   "outputs": [],
   "source": [
    "# Loop to feed the dataset with new rates\n",
    "while Date.iloc[-1].year != 2020 or Date.iloc[-1].month != 3:\n",
    "    \n",
    "    last = Date.iloc[-1]\n",
    "    inizio = last + datetime.timedelta(minutes=15)\n",
    "    inizio = zulu.create(inizio.year, inizio.month, inizio.day, inizio.hour, inizio.minute)\n",
    "    inizio = inizio.isoformat('T')+'Z'\n",
    "    inizio = str(inizio[:-8] + 'Z')\n",
    "\n",
    "    params = {\n",
    "            \"from\": inizio,\n",
    "            \"granularity\": \"M15\"}\n",
    "\n",
    "    r = instruments.InstrumentsCandles(instrument=\"EUR_USD\",\n",
    "                                       params=params)\n",
    "\n",
    "    rv = client.request(r)\n",
    "\n",
    "    newDat = []\n",
    "    for oo in r.response['candles']:\n",
    "        newDat.append([oo['time'], oo['mid']['o'], oo['mid']['h'], oo['mid']['l'], oo['mid']['c']])\n",
    "    \n",
    "    newEurusd = pd.DataFrame(newDat)\n",
    "    newEurusd.columns = ['Time', 'Open', 'High', 'Low', 'Close']\n",
    "    newEurusd[\"Time\"] = pd.to_datetime(newEurusd['Time'])\n",
    "    Date = Date.append(newEurusd['Time'])\n",
    "    newEurusd['Time'] = newEurusd['Time'].apply(mpl_dates.date2num)\n",
    "    newEurusd = newEurusd.astype(float)\n",
    "    eurusd = eurusd.append(newEurusd)"
   ]
  },
  {
   "cell_type": "code",
   "execution_count": 13,
   "metadata": {
    "scrolled": true
   },
   "outputs": [
    {
     "name": "stdout",
     "output_type": "stream",
     "text": [
      "(249500, 5)\n",
      "2010-04-01 00:00:00\n",
      "2020-03-04 03:00:00\n",
      "         Time   Open   High    Low  Close\n",
      "0 733863.0000 1.3527 1.3546 1.3523 1.3541\n",
      "1 733863.0104 1.3541 1.3562 1.3538 1.3552\n",
      "2 733863.0208 1.3552 1.3554 1.3544 1.3546\n",
      "3 733863.0312 1.3546 1.3547 1.3526 1.3530\n",
      "4 733863.0417 1.3530 1.3530 1.3518 1.3518\n"
     ]
    }
   ],
   "source": [
    "#First and Last Day of the dataset\n",
    "print(eurusd.shape)\n",
    "print(Date.iloc[0])\n",
    "print(Date.iloc[-1])\n",
    "print(eurusd.head(5))"
   ]
  },
  {
   "cell_type": "markdown",
   "metadata": {},
   "source": [
    "### Definition of the Envelopes"
   ]
  },
  {
   "cell_type": "code",
   "execution_count": 14,
   "metadata": {},
   "outputs": [],
   "source": [
    "def ENV(rates, period, deviation):\n",
    "    UL=[]\n",
    "    ML=[]\n",
    "    LL=[]\n",
    "    \n",
    "    SMA = eurusd['Close'].rolling(period).mean()\n",
    "    \n",
    "    for eachsma in SMA:\n",
    "        uls = eachsma + (eachsma*deviation)\n",
    "        lls = eachsma - (eachsma*deviation)\n",
    "        mls = eachsma\n",
    "    \n",
    "        UL.append(uls)\n",
    "        LL.append(lls)\n",
    "        ML.append(mls)\n",
    "        \n",
    "    return period, UL, ML, LL  "
   ]
  },
  {
   "cell_type": "code",
   "execution_count": 15,
   "metadata": {},
   "outputs": [],
   "source": [
    "period, ul, ml, ll = ENV(eurusd, 40, 0.007)\n",
    "eurusd[\"ul\"] = ul\n",
    "eurusd[\"ml\"] = ml\n",
    "eurusd[\"ll\"] = ll"
   ]
  },
  {
   "cell_type": "code",
   "execution_count": 16,
   "metadata": {},
   "outputs": [],
   "source": [
    "eurusd.index = range(eurusd.shape[0])\n",
    "eurusd = eurusd.drop(eurusd.index[0:period])\n",
    "eurusd.index = range(eurusd.shape[0])"
   ]
  },
  {
   "cell_type": "code",
   "execution_count": 17,
   "metadata": {},
   "outputs": [
    {
     "data": {
      "text/html": [
       "<div>\n",
       "<style scoped>\n",
       "    .dataframe tbody tr th:only-of-type {\n",
       "        vertical-align: middle;\n",
       "    }\n",
       "\n",
       "    .dataframe tbody tr th {\n",
       "        vertical-align: top;\n",
       "    }\n",
       "\n",
       "    .dataframe thead th {\n",
       "        text-align: right;\n",
       "    }\n",
       "</style>\n",
       "<table border=\"1\" class=\"dataframe\">\n",
       "  <thead>\n",
       "    <tr style=\"text-align: right;\">\n",
       "      <th></th>\n",
       "      <th>Time</th>\n",
       "      <th>Open</th>\n",
       "      <th>High</th>\n",
       "      <th>Low</th>\n",
       "      <th>Close</th>\n",
       "      <th>ul</th>\n",
       "      <th>ml</th>\n",
       "      <th>ll</th>\n",
       "    </tr>\n",
       "  </thead>\n",
       "  <tbody>\n",
       "    <tr>\n",
       "      <th>0</th>\n",
       "      <td>733863.4167</td>\n",
       "      <td>1.3504</td>\n",
       "      <td>1.3506</td>\n",
       "      <td>1.3501</td>\n",
       "      <td>1.3506</td>\n",
       "      <td>1.3601</td>\n",
       "      <td>1.3506</td>\n",
       "      <td>1.3412</td>\n",
       "    </tr>\n",
       "    <tr>\n",
       "      <th>1</th>\n",
       "      <td>733863.4271</td>\n",
       "      <td>1.3506</td>\n",
       "      <td>1.3512</td>\n",
       "      <td>1.3501</td>\n",
       "      <td>1.3501</td>\n",
       "      <td>1.3599</td>\n",
       "      <td>1.3505</td>\n",
       "      <td>1.3410</td>\n",
       "    </tr>\n",
       "    <tr>\n",
       "      <th>2</th>\n",
       "      <td>733863.4375</td>\n",
       "      <td>1.3502</td>\n",
       "      <td>1.3502</td>\n",
       "      <td>1.3494</td>\n",
       "      <td>1.3495</td>\n",
       "      <td>1.3598</td>\n",
       "      <td>1.3504</td>\n",
       "      <td>1.3409</td>\n",
       "    </tr>\n",
       "    <tr>\n",
       "      <th>3</th>\n",
       "      <td>733863.4479</td>\n",
       "      <td>1.3495</td>\n",
       "      <td>1.3498</td>\n",
       "      <td>1.3492</td>\n",
       "      <td>1.3497</td>\n",
       "      <td>1.3597</td>\n",
       "      <td>1.3503</td>\n",
       "      <td>1.3408</td>\n",
       "    </tr>\n",
       "    <tr>\n",
       "      <th>4</th>\n",
       "      <td>733863.4583</td>\n",
       "      <td>1.3497</td>\n",
       "      <td>1.3497</td>\n",
       "      <td>1.3490</td>\n",
       "      <td>1.3497</td>\n",
       "      <td>1.3597</td>\n",
       "      <td>1.3502</td>\n",
       "      <td>1.3408</td>\n",
       "    </tr>\n",
       "  </tbody>\n",
       "</table>\n",
       "</div>"
      ],
      "text/plain": [
       "         Time   Open   High    Low  Close     ul     ml     ll\n",
       "0 733863.4167 1.3504 1.3506 1.3501 1.3506 1.3601 1.3506 1.3412\n",
       "1 733863.4271 1.3506 1.3512 1.3501 1.3501 1.3599 1.3505 1.3410\n",
       "2 733863.4375 1.3502 1.3502 1.3494 1.3495 1.3598 1.3504 1.3409\n",
       "3 733863.4479 1.3495 1.3498 1.3492 1.3497 1.3597 1.3503 1.3408\n",
       "4 733863.4583 1.3497 1.3497 1.3490 1.3497 1.3597 1.3502 1.3408"
      ]
     },
     "execution_count": 17,
     "metadata": {},
     "output_type": "execute_result"
    }
   ],
   "source": [
    "eurusd.head(5)"
   ]
  },
  {
   "cell_type": "code",
   "execution_count": 18,
   "metadata": {},
   "outputs": [],
   "source": [
    "#Export the dataset\n",
    "#eurusd.to_csv(os.getcwd()+'\\\\eurusd15minEnvelopes.csv')"
   ]
  },
  {
   "cell_type": "code",
   "execution_count": 19,
   "metadata": {},
   "outputs": [
    {
     "name": "stdout",
     "output_type": "stream",
     "text": [
      "3478\n"
     ]
    }
   ],
   "source": [
    "count = 0\n",
    "for i in range(0,eurusd.shape[0]):\n",
    "    if eurusd.Low[i] < eurusd.ll[i] or eurusd.High[i] > eurusd.ul[i]:\n",
    "        count=count+1\n",
    "        \n",
    "print(count)\n",
    "        "
   ]
  },
  {
   "cell_type": "code",
   "execution_count": 20,
   "metadata": {},
   "outputs": [],
   "source": [
    "plt.style.use('ggplot')"
   ]
  },
  {
   "cell_type": "code",
   "execution_count": 44,
   "metadata": {},
   "outputs": [
    {
     "data": {
      "image/png": "[encoded data removed]",
      "text/plain": [
       "<Figure size 1152x432 with 1 Axes>"
      ]
     },
     "metadata": {},
     "output_type": "display_data"
    }
   ],
   "source": [
    "# Creating Subplots\n",
    "fig, ax = plt.subplots(figsize = (16,6))\n",
    "\n",
    "candlestick_ohlc(ax, eurusd.iloc[range(100), range(5)].values, width=0.007, colorup='green', colordown='red', alpha=0.8)\n",
    "ax.plot(eurusd['Time'][:100], eurusd[\"ul\"][:100], color = 'blue', linewidth = 1, label='Upper Envelope')\n",
    "ax.plot(eurusd['Time'][:100], eurusd[\"ll\"][:100], color = 'blue', linewidth = 1, label='Lower Envelope')\n",
    "leg = ax.legend();\n",
    "\n",
    "# Setting labels & titles\n",
    "ax.set_xlabel('Date')\n",
    "ax.set_ylabel('Price')\n",
    "fig.suptitle('15 Minutes Candlestick Chart of EUR/USD')\n",
    "\n",
    "# Formatting Date\n",
    "date_format = mpl_dates.DateFormatter('%d-%m-%Y/%H:%M:%S')\n",
    "ax.xaxis.set_major_formatter(date_format)\n",
    "fig.autofmt_xdate()\n",
    "\n",
    "fig.tight_layout()\n",
    "\n",
    "plt.show()"
   ]
  }
 ],
 "metadata": {
  "kernelspec": {
   "display_name": "Python 3",
   "language": "python",
   "name": "python3"
  },
  "language_info": {
   "codemirror_mode": {
    "name": "ipython",
    "version": 3
   },
   "file_extension": ".py",
   "mimetype": "text/x-python",
   "name": "python",
   "nbconvert_exporter": "python",
   "pygments_lexer": "ipython3",
   "version": "3.7.1"
  }
 },
 "nbformat": 4,
 "nbformat_minor": 2
}
