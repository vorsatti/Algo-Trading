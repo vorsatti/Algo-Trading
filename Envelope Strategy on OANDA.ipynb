{
 "cells": [
  {
   "cell_type": "markdown",
   "metadata": {},
   "source": [
    "# Envelopes Strategy"
   ]
  },
  {
   "cell_type": "markdown",
   "metadata": {},
   "source": [
    "### Example of 100 candles of 15 min"
   ]
  },
  {
   "cell_type": "code",
   "execution_count": 4,
   "metadata": {
    "scrolled": false
   },
   "outputs": [],
   "source": [
    "#!pip install oandapyV20"
   ]
  },
  {
   "cell_type": "code",
   "execution_count": 5,
   "metadata": {},
   "outputs": [],
   "source": [
    "#!pip install zulu"
   ]
  },
  {
   "cell_type": "code",
   "execution_count": 6,
   "metadata": {},
   "outputs": [],
   "source": [
    "#!pip install mpl_finance"
   ]
  },
  {
   "cell_type": "code",
   "execution_count": 2,
   "metadata": {},
   "outputs": [],
   "source": [
    "import numpy as np\n",
    "import pandas as pd\n",
    "import oandapyV20\n",
    "import oandapyV20.endpoints.instruments as instruments\n",
    "import matplotlib.dates as mpl_dates\n",
    "import matplotlib.pyplot as plt\n",
    "from mpl_finance import candlestick_ohlc\n",
    "import datetime\n",
    "import zulu\n",
    "import os\n",
    "\n",
    "pd.set_option('display.float_format', '{:.4f}'.format)"
   ]
  },
  {
   "cell_type": "code",
   "execution_count": 3,
   "metadata": {},
   "outputs": [],
   "source": [
    "ID = '101-004-9949998-001'\n",
    "token = '4900a27fe17ab573d490ce234465329f-6633f44d08bf25b48ceaacd2c7917674'"
   ]
  },
  {
   "cell_type": "code",
   "execution_count": 4,
   "metadata": {},
   "outputs": [],
   "source": [
    "client = oandapyV20.API(access_token=token)"
   ]
  },
  {
   "cell_type": "markdown",
   "metadata": {},
   "source": [
    "## Just an example with 100 rates"
   ]
  },
  {
   "cell_type": "code",
   "execution_count": 4,
   "metadata": {},
   "outputs": [],
   "source": [
    "params = {\n",
    "          \"count\": 100,\n",
    "          \"granularity\": \"M15\"}"
   ]
  },
  {
   "cell_type": "code",
   "execution_count": 5,
   "metadata": {},
   "outputs": [],
   "source": [
    "r = instruments.InstrumentsCandles(instrument=\"EUR_USD\",\n",
    "                                   params=params)"
   ]
  },
  {
   "cell_type": "code",
   "execution_count": 6,
   "metadata": {},
   "outputs": [],
   "source": [
    "rv = client.request(r)"
   ]
  },
  {
   "cell_type": "code",
   "execution_count": 7,
   "metadata": {},
   "outputs": [],
   "source": [
    "dat = []\n",
    "for oo in r.response['candles']:\n",
    "    dat.append([oo['time'], oo['mid']['o'], oo['mid']['h'], oo['mid']['l'], oo['mid']['c']])"
   ]
  },
  {
   "cell_type": "code",
   "execution_count": 8,
   "metadata": {
    "scrolled": true
   },
   "outputs": [
    {
     "data": {
      "text/html": [
       "<div>\n",
       "<style scoped>\n",
       "    .dataframe tbody tr th:only-of-type {\n",
       "        vertical-align: middle;\n",
       "    }\n",
       "\n",
       "    .dataframe tbody tr th {\n",
       "        vertical-align: top;\n",
       "    }\n",
       "\n",
       "    .dataframe thead th {\n",
       "        text-align: right;\n",
       "    }\n",
       "</style>\n",
       "<table border=\"1\" class=\"dataframe\">\n",
       "  <thead>\n",
       "    <tr style=\"text-align: right;\">\n",
       "      <th></th>\n",
       "      <th>Time</th>\n",
       "      <th>Open</th>\n",
       "      <th>High</th>\n",
       "      <th>Low</th>\n",
       "      <th>Close</th>\n",
       "    </tr>\n",
       "  </thead>\n",
       "  <tbody>\n",
       "    <tr>\n",
       "      <th>0</th>\n",
       "      <td>737517.8333</td>\n",
       "      <td>1.0850</td>\n",
       "      <td>1.0857</td>\n",
       "      <td>1.0845</td>\n",
       "      <td>1.0854</td>\n",
       "    </tr>\n",
       "    <tr>\n",
       "      <th>1</th>\n",
       "      <td>737517.8438</td>\n",
       "      <td>1.0854</td>\n",
       "      <td>1.0867</td>\n",
       "      <td>1.0853</td>\n",
       "      <td>1.0862</td>\n",
       "    </tr>\n",
       "    <tr>\n",
       "      <th>2</th>\n",
       "      <td>737517.8542</td>\n",
       "      <td>1.0862</td>\n",
       "      <td>1.0866</td>\n",
       "      <td>1.0857</td>\n",
       "      <td>1.0861</td>\n",
       "    </tr>\n",
       "    <tr>\n",
       "      <th>3</th>\n",
       "      <td>737517.8646</td>\n",
       "      <td>1.0861</td>\n",
       "      <td>1.0862</td>\n",
       "      <td>1.0855</td>\n",
       "      <td>1.0858</td>\n",
       "    </tr>\n",
       "    <tr>\n",
       "      <th>4</th>\n",
       "      <td>737517.8750</td>\n",
       "      <td>1.0858</td>\n",
       "      <td>1.0865</td>\n",
       "      <td>1.0857</td>\n",
       "      <td>1.0858</td>\n",
       "    </tr>\n",
       "  </tbody>\n",
       "</table>\n",
       "</div>"
      ],
      "text/plain": [
       "         Time   Open   High    Low  Close\n",
       "0 737517.8333 1.0850 1.0857 1.0845 1.0854\n",
       "1 737517.8438 1.0854 1.0867 1.0853 1.0862\n",
       "2 737517.8542 1.0862 1.0866 1.0857 1.0861\n",
       "3 737517.8646 1.0861 1.0862 1.0855 1.0858\n",
       "4 737517.8750 1.0858 1.0865 1.0857 1.0858"
      ]
     },
     "execution_count": 8,
     "metadata": {},
     "output_type": "execute_result"
    }
   ],
   "source": [
    "df = pd.DataFrame(dat)\n",
    "df.columns = ['Time', 'Open', 'High', 'Low', 'Close']\n",
    "df[\"Time\"] = pd.to_datetime(df['Time'])\n",
    "df['Time'] = df['Time'].apply(mpl_dates.date2num)\n",
    "df = df.astype(float)\n",
    "#df = df.set_index('Time')\n",
    "df.head()"
   ]
  },
  {
   "cell_type": "code",
   "execution_count": 9,
   "metadata": {},
   "outputs": [],
   "source": [
    "plt.style.use('ggplot')"
   ]
  },
  {
   "cell_type": "code",
   "execution_count": 10,
   "metadata": {},
   "outputs": [
    {
     "data": {
      "image/png": "[encoded data removed]",
      "text/plain": [
       "<Figure size 432x288 with 1 Axes>"
      ]
     },
     "metadata": {},
     "output_type": "display_data"
    }
   ],
   "source": [
    "# Creating Subplots\n",
    "fig, ax = plt.subplots()\n",
    "\n",
    "candlestick_ohlc(ax, df.values, width=0.007, colorup='green', colordown='red', alpha=0.8)\n",
    "\n",
    "# Setting labels & titles\n",
    "ax.set_xlabel('Date')\n",
    "ax.set_ylabel('Price')\n",
    "fig.suptitle('15 Minutes Candlestick Chart of EUR/USD')\n",
    "\n",
    "# Formatting Date\n",
    "date_format = mpl_dates.DateFormatter('%d-%m-%Y/%H:%M:%S')\n",
    "ax.xaxis.set_major_formatter(date_format)\n",
    "fig.autofmt_xdate()\n",
    "\n",
    "fig.tight_layout()\n",
    "\n",
    "plt.show()"
   ]
  },
  {
   "cell_type": "markdown",
   "metadata": {},
   "source": [
    "## Envelope strategy on EURUSD"
   ]
  },
  {
   "cell_type": "code",
   "execution_count": 11,
   "metadata": {},
   "outputs": [
    {
     "data": {
      "text/html": [
       "<div>\n",
       "<style scoped>\n",
       "    .dataframe tbody tr th:only-of-type {\n",
       "        vertical-align: middle;\n",
       "    }\n",
       "\n",
       "    .dataframe tbody tr th {\n",
       "        vertical-align: top;\n",
       "    }\n",
       "\n",
       "    .dataframe thead th {\n",
       "        text-align: right;\n",
       "    }\n",
       "</style>\n",
       "<table border=\"1\" class=\"dataframe\">\n",
       "  <thead>\n",
       "    <tr style=\"text-align: right;\">\n",
       "      <th></th>\n",
       "      <th>Time</th>\n",
       "      <th>Open</th>\n",
       "      <th>High</th>\n",
       "      <th>Low</th>\n",
       "      <th>Close</th>\n",
       "    </tr>\n",
       "  </thead>\n",
       "  <tbody>\n",
       "    <tr>\n",
       "      <th>0</th>\n",
       "      <td>733863.0208</td>\n",
       "      <td>1.3552</td>\n",
       "      <td>1.3554</td>\n",
       "      <td>1.3544</td>\n",
       "      <td>1.3546</td>\n",
       "    </tr>\n",
       "    <tr>\n",
       "      <th>1</th>\n",
       "      <td>733863.0312</td>\n",
       "      <td>1.3546</td>\n",
       "      <td>1.3547</td>\n",
       "      <td>1.3526</td>\n",
       "      <td>1.3530</td>\n",
       "    </tr>\n",
       "    <tr>\n",
       "      <th>2</th>\n",
       "      <td>733863.0417</td>\n",
       "      <td>1.3530</td>\n",
       "      <td>1.3530</td>\n",
       "      <td>1.3518</td>\n",
       "      <td>1.3518</td>\n",
       "    </tr>\n",
       "    <tr>\n",
       "      <th>3</th>\n",
       "      <td>733863.0521</td>\n",
       "      <td>1.3518</td>\n",
       "      <td>1.3520</td>\n",
       "      <td>1.3512</td>\n",
       "      <td>1.3517</td>\n",
       "    </tr>\n",
       "    <tr>\n",
       "      <th>4</th>\n",
       "      <td>733863.0625</td>\n",
       "      <td>1.3517</td>\n",
       "      <td>1.3517</td>\n",
       "      <td>1.3507</td>\n",
       "      <td>1.3514</td>\n",
       "    </tr>\n",
       "  </tbody>\n",
       "</table>\n",
       "</div>"
      ],
      "text/plain": [
       "         Time   Open   High    Low  Close\n",
       "0 733863.0208 1.3552 1.3554 1.3544 1.3546\n",
       "1 733863.0312 1.3546 1.3547 1.3526 1.3530\n",
       "2 733863.0417 1.3530 1.3530 1.3518 1.3518\n",
       "3 733863.0521 1.3518 1.3520 1.3512 1.3517\n",
       "4 733863.0625 1.3517 1.3517 1.3507 1.3514"
      ]
     },
     "execution_count": 11,
     "metadata": {},
     "output_type": "execute_result"
    }
   ],
   "source": [
    "# Loop to create the dataset\n",
    "\n",
    "Date = pd.Series(datetime.datetime(2010, 4, 1, 0, 0, 0))\n",
    "eurusd = pd.DataFrame()\n",
    "\n",
    "\n",
    "while Date.iloc[-1].year != 2020 or Date.iloc[-1].month != 4:\n",
    "    \n",
    "    last = Date.iloc[-1]\n",
    "    inizio = last + datetime.timedelta(minutes=15)\n",
    "    inizio = zulu.create(inizio.year, inizio.month, inizio.day, inizio.hour, inizio.minute)\n",
    "    inizio = inizio.isoformat('T')+'Z'\n",
    "    inizio = str(inizio[:-8] + 'Z')\n",
    "\n",
    "    params = {\n",
    "            \"from\": inizio,\n",
    "            \"granularity\": \"M15\"}\n",
    "\n",
    "    r = instruments.InstrumentsCandles(instrument=\"EUR_USD\",\n",
    "                                       params=params)\n",
    "\n",
    "    rv = client.request(r)\n",
    "\n",
    "    newDat = []\n",
    "    for oo in r.response['candles']:\n",
    "        newDat.append([oo['time'], oo['mid']['o'], oo['mid']['h'], oo['mid']['l'], oo['mid']['c']])\n",
    "    \n",
    "    newEurusd = pd.DataFrame(newDat)\n",
    "    newEurusd.columns = ['Time', 'Open', 'High', 'Low', 'Close']\n",
    "    newEurusd[\"Time\"] = pd.to_datetime(newEurusd['Time'])\n",
    "    Date = Date.append(newEurusd['Time'])\n",
    "    newEurusd['Time'] = newEurusd['Time'].apply(mpl_dates.date2num)\n",
    "    newEurusd = newEurusd.astype(float)\n",
    "    eurusd = eurusd.append(newEurusd)\n",
    "    \n",
    "#Adjusting so that eurusd and Date match\n",
    "Date = Date.drop(index=0)\n",
    "eurusd = eurusd.drop(index=0)\n",
    "\n",
    "eurusd.index = range(eurusd.shape[0])\n",
    "Date.index = range(eurusd.shape[0])\n",
    "\n",
    "eurusd.head()"
   ]
  },
  {
   "cell_type": "code",
   "execution_count": 12,
   "metadata": {
    "scrolled": false
   },
   "outputs": [
    {
     "name": "stdout",
     "output_type": "stream",
     "text": [
      "(250997, 5)\n",
      "2010-04-01 00:30:00\n",
      "2020-04-01 22:15:00\n",
      "         Time   Open   High    Low  Close\n",
      "0 733863.0208 1.3552 1.3554 1.3544 1.3546\n",
      "1 733863.0312 1.3546 1.3547 1.3526 1.3530\n",
      "2 733863.0417 1.3530 1.3530 1.3518 1.3518\n",
      "3 733863.0521 1.3518 1.3520 1.3512 1.3517\n",
      "4 733863.0625 1.3517 1.3517 1.3507 1.3514\n"
     ]
    }
   ],
   "source": [
    "#First and Last Day of the dataset\n",
    "print(eurusd.shape)\n",
    "print(Date.iloc[0])\n",
    "print(Date.iloc[-1])\n",
    "print(eurusd.head(5))"
   ]
  },
  {
   "cell_type": "markdown",
   "metadata": {},
   "source": [
    "### Definition of the Envelopes"
   ]
  },
  {
   "cell_type": "code",
   "execution_count": 14,
   "metadata": {},
   "outputs": [],
   "source": [
    "def ENV(rates, period, deviation):\n",
    "    UL=[]\n",
    "    LL=[]\n",
    "    ML = []\n",
    "    \n",
    "    SMA = eurusd['Close'].rolling(period).mean()\n",
    "    \n",
    "    for eachsma in SMA:\n",
    "        uls = eachsma + (eachsma*deviation)\n",
    "        lls = eachsma - (eachsma*deviation)\n",
    "        mls = eachsma\n",
    "        \n",
    "        UL.append(uls)\n",
    "        LL.append(lls)\n",
    "        ML.append(mls)\n",
    "        \n",
    "    return period, UL, LL, ML "
   ]
  },
  {
   "cell_type": "code",
   "execution_count": 15,
   "metadata": {
    "scrolled": true
   },
   "outputs": [],
   "source": [
    "period, ul0025, ll0025, ml = ENV(eurusd, 40, 0.0025)\n",
    "period, ul01, ll01, ml = ENV(eurusd, 40, 0.01)\n",
    "\n",
    "eurusd[\"ml\"] = ml\n",
    "eurusd[\"ul0025\"] = ul0025\n",
    "eurusd[\"ll0025\"] = ll0025\n",
    "eurusd[\"ul01\"] = ul01\n",
    "eurusd[\"ll01\"] = ll01\n",
    "\n",
    "eurusd = eurusd.iloc[40:]\n",
    "eurusd.index = range(eurusd.shape[0])\n",
    "\n",
    "data = {'ml':ml,'ul0025':ul0025, 'll0025':ll0025,\n",
    "        'ul01':ul01, 'll01':ll01}\n",
    "\n",
    "flag = pd.DataFrame(data)\n",
    "\n",
    "flag.index = range(flag.shape[0])\n",
    "flag = flag.drop(flag.index[0:period])\n",
    "flag.index = range(flag.shape[0])"
   ]
  },
  {
   "cell_type": "code",
   "execution_count": 16,
   "metadata": {},
   "outputs": [],
   "source": [
    "plt.style.use('ggplot')"
   ]
  },
  {
   "cell_type": "code",
   "execution_count": 17,
   "metadata": {},
   "outputs": [
    {
     "data": {
      "image/png": "[encoded data removed]",
      "text/plain": [
       "<Figure size 1152x432 with 1 Axes>"
      ]
     },
     "metadata": {},
     "output_type": "display_data"
    }
   ],
   "source": [
    "# Creating Subplots\n",
    "fig, ax = plt.subplots(figsize = (16,6))\n",
    "\n",
    "candlestick_ohlc(ax, eurusd.iloc[range(60), range(5)].values, width=0.007, colorup='green', colordown='red', alpha=0.8)\n",
    "ax.plot(eurusd['Time'][:60], eurusd[\"ul0025\"][:60], color = 'blue', linewidth = 1, label='Upper Envelope')\n",
    "ax.plot(eurusd['Time'][:60], eurusd[\"ll0025\"][:60], color = 'blue', linewidth = 1, label='Lower Envelope')\n",
    "leg = ax.legend();\n",
    "\n",
    "# Setting labels & titles\n",
    "ax.set_xlabel('Date')\n",
    "ax.set_ylabel('Price')\n",
    "fig.suptitle('15 Minutes Candlestick Chart of EUR/USD')\n",
    "\n",
    "# Formatting Date\n",
    "date_format = mpl_dates.DateFormatter('%d-%m-%Y/%H:%M:%S')\n",
    "ax.xaxis.set_major_formatter(date_format)\n",
    "fig.autofmt_xdate()\n",
    "\n",
    "fig.tight_layout()\n",
    "\n",
    "plt.show()"
   ]
  },
  {
   "cell_type": "code",
   "execution_count": 18,
   "metadata": {
    "scrolled": true
   },
   "outputs": [
    {
     "name": "stdout",
     "output_type": "stream",
     "text": [
      "(251460, 10)\n",
      "(251460, 5)\n"
     ]
    }
   ],
   "source": [
    "print(eurusd.shape)\n",
    "print(flag.shape)"
   ]
  },
  {
   "cell_type": "code",
   "execution_count": 19,
   "metadata": {},
   "outputs": [],
   "source": [
    "flag[\"close\"] = eurusd[\"Close\"].values"
   ]
  },
  {
   "cell_type": "code",
   "execution_count": 20,
   "metadata": {},
   "outputs": [],
   "source": [
    "flag[\"buyTrigger\"] = np.where(flag[\"close\"] < flag[\"ll0025\"],1,0)\n",
    "flag[\"buyStopLoss\"] = np.where(flag[\"close\"] < flag[\"ll01\"],1,0)\n",
    "flag[\"buyWin\"] = np.where(flag[\"close\"] >= flag[\"ul0025\"],1,0)\n",
    "\n",
    "flag[\"sellTrigger\"] = np.where(flag[\"close\"] > flag[\"ul0025\"],1,0)\n",
    "flag[\"sellStopLoss\"] = np.where(flag[\"close\"] > flag[\"ul01\"],1,0)\n",
    "flag[\"sellWin\"] = np.where(flag[\"close\"] <= flag[\"ll0025\"],1,0)\n",
    "\n",
    "flag = flag[[\"close\", \"ml\", \"ll0025\", \"ul0025\", \"ul01\", \"ll01\", \n",
    "             \"buyTrigger\", \"buyStopLoss\", \"buyWin\", \n",
    "             \"sellTrigger\", \"sellStopLoss\", \"sellWin\"]]"
   ]
  },
  {
   "cell_type": "code",
   "execution_count": 21,
   "metadata": {
    "scrolled": true
   },
   "outputs": [
    {
     "data": {
      "text/html": [
       "<div>\n",
       "<style scoped>\n",
       "    .dataframe tbody tr th:only-of-type {\n",
       "        vertical-align: middle;\n",
       "    }\n",
       "\n",
       "    .dataframe tbody tr th {\n",
       "        vertical-align: top;\n",
       "    }\n",
       "\n",
       "    .dataframe thead th {\n",
       "        text-align: right;\n",
       "    }\n",
       "</style>\n",
       "<table border=\"1\" class=\"dataframe\">\n",
       "  <thead>\n",
       "    <tr style=\"text-align: right;\">\n",
       "      <th></th>\n",
       "      <th>close</th>\n",
       "      <th>ml</th>\n",
       "      <th>ll0025</th>\n",
       "      <th>ul0025</th>\n",
       "      <th>ul01</th>\n",
       "      <th>ll01</th>\n",
       "      <th>buyTrigger</th>\n",
       "      <th>buyStopLoss</th>\n",
       "      <th>buyWin</th>\n",
       "      <th>sellTrigger</th>\n",
       "      <th>sellStopLoss</th>\n",
       "      <th>sellWin</th>\n",
       "    </tr>\n",
       "  </thead>\n",
       "  <tbody>\n",
       "    <tr>\n",
       "      <th>0</th>\n",
       "      <td>1.3506</td>\n",
       "      <td>1.3506</td>\n",
       "      <td>1.3472</td>\n",
       "      <td>1.3540</td>\n",
       "      <td>1.3641</td>\n",
       "      <td>1.3371</td>\n",
       "      <td>0</td>\n",
       "      <td>0</td>\n",
       "      <td>0</td>\n",
       "      <td>0</td>\n",
       "      <td>0</td>\n",
       "      <td>0</td>\n",
       "    </tr>\n",
       "    <tr>\n",
       "      <th>1</th>\n",
       "      <td>1.3501</td>\n",
       "      <td>1.3505</td>\n",
       "      <td>1.3471</td>\n",
       "      <td>1.3539</td>\n",
       "      <td>1.3640</td>\n",
       "      <td>1.3370</td>\n",
       "      <td>0</td>\n",
       "      <td>0</td>\n",
       "      <td>0</td>\n",
       "      <td>0</td>\n",
       "      <td>0</td>\n",
       "      <td>0</td>\n",
       "    </tr>\n",
       "    <tr>\n",
       "      <th>2</th>\n",
       "      <td>1.3495</td>\n",
       "      <td>1.3504</td>\n",
       "      <td>1.3470</td>\n",
       "      <td>1.3537</td>\n",
       "      <td>1.3639</td>\n",
       "      <td>1.3369</td>\n",
       "      <td>0</td>\n",
       "      <td>0</td>\n",
       "      <td>0</td>\n",
       "      <td>0</td>\n",
       "      <td>0</td>\n",
       "      <td>0</td>\n",
       "    </tr>\n",
       "    <tr>\n",
       "      <th>3</th>\n",
       "      <td>1.3497</td>\n",
       "      <td>1.3503</td>\n",
       "      <td>1.3469</td>\n",
       "      <td>1.3537</td>\n",
       "      <td>1.3638</td>\n",
       "      <td>1.3368</td>\n",
       "      <td>0</td>\n",
       "      <td>0</td>\n",
       "      <td>0</td>\n",
       "      <td>0</td>\n",
       "      <td>0</td>\n",
       "      <td>0</td>\n",
       "    </tr>\n",
       "    <tr>\n",
       "      <th>4</th>\n",
       "      <td>1.3497</td>\n",
       "      <td>1.3502</td>\n",
       "      <td>1.3469</td>\n",
       "      <td>1.3536</td>\n",
       "      <td>1.3637</td>\n",
       "      <td>1.3367</td>\n",
       "      <td>0</td>\n",
       "      <td>0</td>\n",
       "      <td>0</td>\n",
       "      <td>0</td>\n",
       "      <td>0</td>\n",
       "      <td>0</td>\n",
       "    </tr>\n",
       "  </tbody>\n",
       "</table>\n",
       "</div>"
      ],
      "text/plain": [
       "   close     ml  ll0025  ul0025   ul01   ll01  buyTrigger  buyStopLoss  \\\n",
       "0 1.3506 1.3506  1.3472  1.3540 1.3641 1.3371           0            0   \n",
       "1 1.3501 1.3505  1.3471  1.3539 1.3640 1.3370           0            0   \n",
       "2 1.3495 1.3504  1.3470  1.3537 1.3639 1.3369           0            0   \n",
       "3 1.3497 1.3503  1.3469  1.3537 1.3638 1.3368           0            0   \n",
       "4 1.3497 1.3502  1.3469  1.3536 1.3637 1.3367           0            0   \n",
       "\n",
       "   buyWin  sellTrigger  sellStopLoss  sellWin  \n",
       "0       0            0             0        0  \n",
       "1       0            0             0        0  \n",
       "2       0            0             0        0  \n",
       "3       0            0             0        0  \n",
       "4       0            0             0        0  "
      ]
     },
     "execution_count": 21,
     "metadata": {},
     "output_type": "execute_result"
    }
   ],
   "source": [
    "flag.head(5)"
   ]
  },
  {
   "cell_type": "code",
   "execution_count": 22,
   "metadata": {
    "scrolled": true
   },
   "outputs": [],
   "source": [
    "flag['buyTrigger'] = flag['buyTrigger'] - flag['buyTrigger'].shift()\n",
    "flag['buyWin'] = flag['buyWin'] - flag['buyWin'].shift()\n",
    "flag['buyStopLoss'] = flag['buyStopLoss'] - flag['buyStopLoss'].shift()\n",
    "\n",
    "flag['sellTrigger'] = flag['sellTrigger'] - flag['sellTrigger'].shift()\n",
    "flag['sellWin'] = flag['sellWin'] - flag['sellWin'].shift()\n",
    "flag['sellStopLoss'] = flag['sellStopLoss'] - flag['sellStopLoss'].shift()"
   ]
  },
  {
   "cell_type": "code",
   "execution_count": 23,
   "metadata": {},
   "outputs": [],
   "source": [
    "flag[\"buyTrigger\"] = flag[\"buyTrigger\"].replace(-1, 0)\n",
    "flag[\"buyWin\"] = flag[\"buyWin\"].replace(-1, 0)\n",
    "flag[\"buyStopLoss\"] = flag[\"buyStopLoss\"].replace(-1, 0)\n",
    "\n",
    "flag[\"sellTrigger\"] = flag[\"sellTrigger\"].replace(-1, 0)\n",
    "flag[\"sellWin\"] = flag[\"sellWin\"].replace(-1, 0)\n",
    "flag[\"sellStopLoss\"] = flag[\"sellStopLoss\"].replace(-1, 0)"
   ]
  },
  {
   "cell_type": "code",
   "execution_count": 24,
   "metadata": {
    "scrolled": true
   },
   "outputs": [
    {
     "name": "stdout",
     "output_type": "stream",
     "text": [
      "0.0000    248181\n",
      "1.0000      3278\n",
      "Name: buyTrigger, dtype: int64\n",
      "0.0000    248373\n",
      "1.0000      3086\n",
      "Name: buyWin, dtype: int64\n",
      "0.0000    251382\n",
      "1.0000        77\n",
      "Name: buyStopLoss, dtype: int64\n",
      "0.0000    248373\n",
      "1.0000      3086\n",
      "Name: sellTrigger, dtype: int64\n",
      "0.0000    248181\n",
      "1.0000      3278\n",
      "Name: sellWin, dtype: int64\n",
      "0.0000    251388\n",
      "1.0000        71\n",
      "Name: sellStopLoss, dtype: int64\n"
     ]
    }
   ],
   "source": [
    "print(flag[\"buyTrigger\"].value_counts())\n",
    "print(flag[\"buyWin\"].value_counts())\n",
    "print(flag[\"buyStopLoss\"].value_counts())\n",
    "\n",
    "print(flag[\"sellTrigger\"].value_counts())\n",
    "print(flag[\"sellWin\"].value_counts())\n",
    "print(flag[\"sellStopLoss\"].value_counts())"
   ]
  },
  {
   "cell_type": "code",
   "execution_count": 25,
   "metadata": {
    "scrolled": false
   },
   "outputs": [
    {
     "data": {
      "text/html": [
       "<div>\n",
       "<style scoped>\n",
       "    .dataframe tbody tr th:only-of-type {\n",
       "        vertical-align: middle;\n",
       "    }\n",
       "\n",
       "    .dataframe tbody tr th {\n",
       "        vertical-align: top;\n",
       "    }\n",
       "\n",
       "    .dataframe thead th {\n",
       "        text-align: right;\n",
       "    }\n",
       "</style>\n",
       "<table border=\"1\" class=\"dataframe\">\n",
       "  <thead>\n",
       "    <tr style=\"text-align: right;\">\n",
       "      <th></th>\n",
       "      <th>close</th>\n",
       "      <th>ml</th>\n",
       "      <th>ll0025</th>\n",
       "      <th>ul0025</th>\n",
       "      <th>ul01</th>\n",
       "      <th>ll01</th>\n",
       "      <th>buyTrigger</th>\n",
       "      <th>buyStopLoss</th>\n",
       "      <th>buyWin</th>\n",
       "      <th>sellTrigger</th>\n",
       "      <th>sellStopLoss</th>\n",
       "      <th>sellWin</th>\n",
       "    </tr>\n",
       "  </thead>\n",
       "  <tbody>\n",
       "    <tr>\n",
       "      <th>0</th>\n",
       "      <td>1.3540</td>\n",
       "      <td>1.3499</td>\n",
       "      <td>1.3465</td>\n",
       "      <td>1.3533</td>\n",
       "      <td>1.3634</td>\n",
       "      <td>1.3364</td>\n",
       "      <td>0.0000</td>\n",
       "      <td>0.0000</td>\n",
       "      <td>1.0000</td>\n",
       "      <td>1.0000</td>\n",
       "      <td>0.0000</td>\n",
       "      <td>0.0000</td>\n",
       "    </tr>\n",
       "    <tr>\n",
       "      <th>1</th>\n",
       "      <td>1.3515</td>\n",
       "      <td>1.3558</td>\n",
       "      <td>1.3525</td>\n",
       "      <td>1.3592</td>\n",
       "      <td>1.3694</td>\n",
       "      <td>1.3423</td>\n",
       "      <td>1.0000</td>\n",
       "      <td>0.0000</td>\n",
       "      <td>0.0000</td>\n",
       "      <td>0.0000</td>\n",
       "      <td>0.0000</td>\n",
       "      <td>1.0000</td>\n",
       "    </tr>\n",
       "    <tr>\n",
       "      <th>2</th>\n",
       "      <td>1.3535</td>\n",
       "      <td>1.3500</td>\n",
       "      <td>1.3467</td>\n",
       "      <td>1.3534</td>\n",
       "      <td>1.3635</td>\n",
       "      <td>1.3365</td>\n",
       "      <td>0.0000</td>\n",
       "      <td>0.0000</td>\n",
       "      <td>1.0000</td>\n",
       "      <td>1.0000</td>\n",
       "      <td>0.0000</td>\n",
       "      <td>0.0000</td>\n",
       "    </tr>\n",
       "    <tr>\n",
       "      <th>3</th>\n",
       "      <td>1.3466</td>\n",
       "      <td>1.3508</td>\n",
       "      <td>1.3475</td>\n",
       "      <td>1.3542</td>\n",
       "      <td>1.3644</td>\n",
       "      <td>1.3373</td>\n",
       "      <td>1.0000</td>\n",
       "      <td>0.0000</td>\n",
       "      <td>0.0000</td>\n",
       "      <td>0.0000</td>\n",
       "      <td>0.0000</td>\n",
       "      <td>1.0000</td>\n",
       "    </tr>\n",
       "    <tr>\n",
       "      <th>4</th>\n",
       "      <td>1.3521</td>\n",
       "      <td>1.3488</td>\n",
       "      <td>1.3454</td>\n",
       "      <td>1.3521</td>\n",
       "      <td>1.3623</td>\n",
       "      <td>1.3353</td>\n",
       "      <td>0.0000</td>\n",
       "      <td>0.0000</td>\n",
       "      <td>1.0000</td>\n",
       "      <td>1.0000</td>\n",
       "      <td>0.0000</td>\n",
       "      <td>0.0000</td>\n",
       "    </tr>\n",
       "  </tbody>\n",
       "</table>\n",
       "</div>"
      ],
      "text/plain": [
       "   close     ml  ll0025  ul0025   ul01   ll01  buyTrigger  buyStopLoss  \\\n",
       "0 1.3540 1.3499  1.3465  1.3533 1.3634 1.3364      0.0000       0.0000   \n",
       "1 1.3515 1.3558  1.3525  1.3592 1.3694 1.3423      1.0000       0.0000   \n",
       "2 1.3535 1.3500  1.3467  1.3534 1.3635 1.3365      0.0000       0.0000   \n",
       "3 1.3466 1.3508  1.3475  1.3542 1.3644 1.3373      1.0000       0.0000   \n",
       "4 1.3521 1.3488  1.3454  1.3521 1.3623 1.3353      0.0000       0.0000   \n",
       "\n",
       "   buyWin  sellTrigger  sellStopLoss  sellWin  \n",
       "0  1.0000       1.0000        0.0000   0.0000  \n",
       "1  0.0000       0.0000        0.0000   1.0000  \n",
       "2  1.0000       1.0000        0.0000   0.0000  \n",
       "3  0.0000       0.0000        0.0000   1.0000  \n",
       "4  1.0000       1.0000        0.0000   0.0000  "
      ]
     },
     "execution_count": 25,
     "metadata": {},
     "output_type": "execute_result"
    }
   ],
   "source": [
    "columns = [\"buyTrigger\", \"buyWin\", \"buyStopLoss\",\"sellTrigger\", \"sellStopLoss\", \"sellWin\"]\n",
    "flag = flag.replace(0, pd.np.nan).dropna(axis=0, how='all', subset=columns).fillna(0)\n",
    "flag.index = range(flag.shape[0])\n",
    "flag.head(5)"
   ]
  },
  {
   "cell_type": "code",
   "execution_count": 2,
   "metadata": {
    "scrolled": true
   },
   "outputs": [
    {
     "name": "stdout",
     "output_type": "stream",
     "text": [
      "(249460, 10)\n",
      "(6362, 12)\n"
     ]
    }
   ],
   "source": [
    "#Export and Import the dataset\n",
    "#eurusd.to_csv(os.getcwd()+'\\\\eurusd15minEnvelopes.csv')\n",
    "eurusd = pd.read_csv(os.getcwd()+'\\\\eurusd15minEnvelopes.csv', index_col=0)\n",
    "\n",
    "#flag.to_csv(os.getcwd()+'\\\\flagEnvelopes.csv')\n",
    "flag = pd.read_csv(os.getcwd()+'\\\\flagEnvelopes.csv', index_col=0)\n",
    "\n",
    "print(eurusd.shape)\n",
    "print(flag.shape)"
   ]
  },
  {
   "cell_type": "code",
   "execution_count": 3,
   "metadata": {
    "scrolled": true
   },
   "outputs": [
    {
     "data": {
      "text/html": [
       "<div>\n",
       "<style scoped>\n",
       "    .dataframe tbody tr th:only-of-type {\n",
       "        vertical-align: middle;\n",
       "    }\n",
       "\n",
       "    .dataframe tbody tr th {\n",
       "        vertical-align: top;\n",
       "    }\n",
       "\n",
       "    .dataframe thead th {\n",
       "        text-align: right;\n",
       "    }\n",
       "</style>\n",
       "<table border=\"1\" class=\"dataframe\">\n",
       "  <thead>\n",
       "    <tr style=\"text-align: right;\">\n",
       "      <th></th>\n",
       "      <th>Time</th>\n",
       "      <th>Open</th>\n",
       "      <th>High</th>\n",
       "      <th>Low</th>\n",
       "      <th>Close</th>\n",
       "      <th>ml</th>\n",
       "      <th>ul0025</th>\n",
       "      <th>ll0025</th>\n",
       "      <th>ul01</th>\n",
       "      <th>ll01</th>\n",
       "    </tr>\n",
       "  </thead>\n",
       "  <tbody>\n",
       "    <tr>\n",
       "      <th>0</th>\n",
       "      <td>733863.4167</td>\n",
       "      <td>1.3504</td>\n",
       "      <td>1.3506</td>\n",
       "      <td>1.3501</td>\n",
       "      <td>1.3506</td>\n",
       "      <td>1.3506</td>\n",
       "      <td>1.3540</td>\n",
       "      <td>1.3472</td>\n",
       "      <td>1.3641</td>\n",
       "      <td>1.3371</td>\n",
       "    </tr>\n",
       "    <tr>\n",
       "      <th>1</th>\n",
       "      <td>733863.4271</td>\n",
       "      <td>1.3506</td>\n",
       "      <td>1.3512</td>\n",
       "      <td>1.3501</td>\n",
       "      <td>1.3501</td>\n",
       "      <td>1.3505</td>\n",
       "      <td>1.3539</td>\n",
       "      <td>1.3471</td>\n",
       "      <td>1.3640</td>\n",
       "      <td>1.3370</td>\n",
       "    </tr>\n",
       "    <tr>\n",
       "      <th>2</th>\n",
       "      <td>733863.4375</td>\n",
       "      <td>1.3502</td>\n",
       "      <td>1.3502</td>\n",
       "      <td>1.3494</td>\n",
       "      <td>1.3495</td>\n",
       "      <td>1.3504</td>\n",
       "      <td>1.3537</td>\n",
       "      <td>1.3470</td>\n",
       "      <td>1.3639</td>\n",
       "      <td>1.3369</td>\n",
       "    </tr>\n",
       "    <tr>\n",
       "      <th>3</th>\n",
       "      <td>733863.4479</td>\n",
       "      <td>1.3495</td>\n",
       "      <td>1.3498</td>\n",
       "      <td>1.3492</td>\n",
       "      <td>1.3497</td>\n",
       "      <td>1.3503</td>\n",
       "      <td>1.3537</td>\n",
       "      <td>1.3469</td>\n",
       "      <td>1.3638</td>\n",
       "      <td>1.3368</td>\n",
       "    </tr>\n",
       "    <tr>\n",
       "      <th>4</th>\n",
       "      <td>733863.4583</td>\n",
       "      <td>1.3497</td>\n",
       "      <td>1.3497</td>\n",
       "      <td>1.3490</td>\n",
       "      <td>1.3497</td>\n",
       "      <td>1.3502</td>\n",
       "      <td>1.3536</td>\n",
       "      <td>1.3469</td>\n",
       "      <td>1.3637</td>\n",
       "      <td>1.3367</td>\n",
       "    </tr>\n",
       "  </tbody>\n",
       "</table>\n",
       "</div>"
      ],
      "text/plain": [
       "         Time   Open   High    Low  Close     ml  ul0025  ll0025   ul01   ll01\n",
       "0 733863.4167 1.3504 1.3506 1.3501 1.3506 1.3506  1.3540  1.3472 1.3641 1.3371\n",
       "1 733863.4271 1.3506 1.3512 1.3501 1.3501 1.3505  1.3539  1.3471 1.3640 1.3370\n",
       "2 733863.4375 1.3502 1.3502 1.3494 1.3495 1.3504  1.3537  1.3470 1.3639 1.3369\n",
       "3 733863.4479 1.3495 1.3498 1.3492 1.3497 1.3503  1.3537  1.3469 1.3638 1.3368\n",
       "4 733863.4583 1.3497 1.3497 1.3490 1.3497 1.3502  1.3536  1.3469 1.3637 1.3367"
      ]
     },
     "execution_count": 3,
     "metadata": {},
     "output_type": "execute_result"
    }
   ],
   "source": [
    "eurusd.head(5)"
   ]
  },
  {
   "cell_type": "code",
   "execution_count": 4,
   "metadata": {
    "scrolled": true
   },
   "outputs": [
    {
     "data": {
      "text/html": [
       "<div>\n",
       "<style scoped>\n",
       "    .dataframe tbody tr th:only-of-type {\n",
       "        vertical-align: middle;\n",
       "    }\n",
       "\n",
       "    .dataframe tbody tr th {\n",
       "        vertical-align: top;\n",
       "    }\n",
       "\n",
       "    .dataframe thead th {\n",
       "        text-align: right;\n",
       "    }\n",
       "</style>\n",
       "<table border=\"1\" class=\"dataframe\">\n",
       "  <thead>\n",
       "    <tr style=\"text-align: right;\">\n",
       "      <th></th>\n",
       "      <th>close</th>\n",
       "      <th>ml</th>\n",
       "      <th>ll0025</th>\n",
       "      <th>ul0025</th>\n",
       "      <th>ul01</th>\n",
       "      <th>ll01</th>\n",
       "      <th>buyTrigger</th>\n",
       "      <th>buyStopLoss</th>\n",
       "      <th>buyWin</th>\n",
       "      <th>sellTrigger</th>\n",
       "      <th>sellStopLoss</th>\n",
       "      <th>sellWin</th>\n",
       "    </tr>\n",
       "  </thead>\n",
       "  <tbody>\n",
       "    <tr>\n",
       "      <th>0</th>\n",
       "      <td>1.3540</td>\n",
       "      <td>1.3499</td>\n",
       "      <td>1.3465</td>\n",
       "      <td>1.3533</td>\n",
       "      <td>1.3634</td>\n",
       "      <td>1.3364</td>\n",
       "      <td>0.0000</td>\n",
       "      <td>0.0000</td>\n",
       "      <td>1.0000</td>\n",
       "      <td>1.0000</td>\n",
       "      <td>0.0000</td>\n",
       "      <td>0.0000</td>\n",
       "    </tr>\n",
       "    <tr>\n",
       "      <th>1</th>\n",
       "      <td>1.3515</td>\n",
       "      <td>1.3558</td>\n",
       "      <td>1.3525</td>\n",
       "      <td>1.3592</td>\n",
       "      <td>1.3694</td>\n",
       "      <td>1.3423</td>\n",
       "      <td>1.0000</td>\n",
       "      <td>0.0000</td>\n",
       "      <td>0.0000</td>\n",
       "      <td>0.0000</td>\n",
       "      <td>0.0000</td>\n",
       "      <td>1.0000</td>\n",
       "    </tr>\n",
       "    <tr>\n",
       "      <th>2</th>\n",
       "      <td>1.3535</td>\n",
       "      <td>1.3500</td>\n",
       "      <td>1.3467</td>\n",
       "      <td>1.3534</td>\n",
       "      <td>1.3635</td>\n",
       "      <td>1.3365</td>\n",
       "      <td>0.0000</td>\n",
       "      <td>0.0000</td>\n",
       "      <td>1.0000</td>\n",
       "      <td>1.0000</td>\n",
       "      <td>0.0000</td>\n",
       "      <td>0.0000</td>\n",
       "    </tr>\n",
       "    <tr>\n",
       "      <th>3</th>\n",
       "      <td>1.3466</td>\n",
       "      <td>1.3508</td>\n",
       "      <td>1.3475</td>\n",
       "      <td>1.3542</td>\n",
       "      <td>1.3644</td>\n",
       "      <td>1.3373</td>\n",
       "      <td>1.0000</td>\n",
       "      <td>0.0000</td>\n",
       "      <td>0.0000</td>\n",
       "      <td>0.0000</td>\n",
       "      <td>0.0000</td>\n",
       "      <td>1.0000</td>\n",
       "    </tr>\n",
       "    <tr>\n",
       "      <th>4</th>\n",
       "      <td>1.3521</td>\n",
       "      <td>1.3488</td>\n",
       "      <td>1.3454</td>\n",
       "      <td>1.3521</td>\n",
       "      <td>1.3623</td>\n",
       "      <td>1.3353</td>\n",
       "      <td>0.0000</td>\n",
       "      <td>0.0000</td>\n",
       "      <td>1.0000</td>\n",
       "      <td>1.0000</td>\n",
       "      <td>0.0000</td>\n",
       "      <td>0.0000</td>\n",
       "    </tr>\n",
       "  </tbody>\n",
       "</table>\n",
       "</div>"
      ],
      "text/plain": [
       "   close     ml  ll0025  ul0025   ul01   ll01  buyTrigger  buyStopLoss  \\\n",
       "0 1.3540 1.3499  1.3465  1.3533 1.3634 1.3364      0.0000       0.0000   \n",
       "1 1.3515 1.3558  1.3525  1.3592 1.3694 1.3423      1.0000       0.0000   \n",
       "2 1.3535 1.3500  1.3467  1.3534 1.3635 1.3365      0.0000       0.0000   \n",
       "3 1.3466 1.3508  1.3475  1.3542 1.3644 1.3373      1.0000       0.0000   \n",
       "4 1.3521 1.3488  1.3454  1.3521 1.3623 1.3353      0.0000       0.0000   \n",
       "\n",
       "   buyWin  sellTrigger  sellStopLoss  sellWin  \n",
       "0  1.0000       1.0000        0.0000   0.0000  \n",
       "1  0.0000       0.0000        0.0000   1.0000  \n",
       "2  1.0000       1.0000        0.0000   0.0000  \n",
       "3  0.0000       0.0000        0.0000   1.0000  \n",
       "4  1.0000       1.0000        0.0000   0.0000  "
      ]
     },
     "execution_count": 4,
     "metadata": {},
     "output_type": "execute_result"
    }
   ],
   "source": [
    "flag.head(5)"
   ]
  },
  {
   "cell_type": "code",
   "execution_count": 192,
   "metadata": {
    "scrolled": true
   },
   "outputs": [],
   "source": [
    "PL = [0]\n",
    "pips = 0\n",
    "entry = 0\n",
    "exit = 0\n",
    "\n",
    "for i in range(len(flag.index)-1):\n",
    "    \n",
    "    if flag[\"buyTrigger\"][i] == 1 and flag[\"buyWin\"][i+1] == 1:\n",
    "        entry = flag[\"close\"][i]\n",
    "        exit = flag[\"close\"][i+1]\n",
    "        pips = pips + (exit-entry)*10000\n",
    "        PL.append(pips)\n",
    "        \n",
    "    elif flag[\"buyTrigger\"][i] == 1 and flag[\"buyStopLoss\"][i+1] == 1:\n",
    "        entry = flag[\"close\"][i]\n",
    "        exit = flag[\"close\"][i+1]\n",
    "        pips = pips + (exit-entry)*10000\n",
    "        PL.append(pips)\n",
    "        \n",
    "    elif flag[\"sellTrigger\"][i] == 1 and flag[\"sellWin\"][i+1] == 1:\n",
    "        entry = flag[\"close\"][i]\n",
    "        exit = flag[\"close\"][i+1]\n",
    "        pips = pips + (entry-exit)*10000\n",
    "        PL.append(pips)\n",
    "\n",
    "    elif flag[\"sellTrigger\"][i] == 1 and flag[\"sellStopLoss\"][i+1] == 1:\n",
    "        entry = flag[\"close\"][i]\n",
    "        exit = flag[\"close\"][i+1]\n",
    "        pips = pips + (entry-exit)*10000\n",
    "        PL.append(pips)"
   ]
  },
  {
   "cell_type": "code",
   "execution_count": 193,
   "metadata": {},
   "outputs": [
    {
     "data": {
      "text/plain": [
       "1719   82160.8000\n",
       "dtype: float64"
      ]
     },
     "execution_count": 193,
     "metadata": {},
     "output_type": "execute_result"
    }
   ],
   "source": [
    "PL = pd.Series(PL)\n",
    "PL.tail(1)"
   ]
  },
  {
   "cell_type": "code",
   "execution_count": 206,
   "metadata": {},
   "outputs": [
    {
     "data": {
      "image/png": "[encoded data removed]",
      "text/plain": [
       "<Figure size 1872x720 with 1 Axes>"
      ]
     },
     "metadata": {},
     "output_type": "display_data"
    }
   ],
   "source": [
    "plt.figure(figsize=(26, 10), facecolor='w', edgecolor='k');\n",
    "PL.plot(color='blue');\n",
    "plt.title(\"Pips gained using the Envelopes Strategy\", loc='center', pad=None)\n",
    "plt.ylabel(\"Pips\");\n",
    "plt.xlabel(\"Number of Trades\");\n",
    "plt.rcParams.update({'font.size': 20})"
   ]
  }
 ],
 "metadata": {
  "kernelspec": {
   "display_name": "Python 3",
   "language": "python",
   "name": "python3"
  },
  "language_info": {
   "codemirror_mode": {
    "name": "ipython",
    "version": 3
   },
   "file_extension": ".py",
   "mimetype": "text/x-python",
   "name": "python",
   "nbconvert_exporter": "python",
   "pygments_lexer": "ipython3",
   "version": "3.7.1"
  }
 },
 "nbformat": 4,
 "nbformat_minor": 2
}
