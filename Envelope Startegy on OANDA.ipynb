{
 "cells": [
  {
   "cell_type": "markdown",
   "metadata": {},
   "source": [
    "# Envelopes Strategy"
   ]
  },
  {
   "cell_type": "markdown",
   "metadata": {},
   "source": [
    "### Example of 100 candles of 15 min"
   ]
  },
  {
   "cell_type": "code",
   "execution_count": 336,
   "metadata": {
    "scrolled": false
   },
   "outputs": [],
   "source": [
    "#!pip install oandapyV20"
   ]
  },
  {
   "cell_type": "code",
   "execution_count": 337,
   "metadata": {},
   "outputs": [],
   "source": [
    "#!pip install zulu"
   ]
  },
  {
   "cell_type": "code",
   "execution_count": 338,
   "metadata": {},
   "outputs": [],
   "source": [
    "#!pip install mpl_finance"
   ]
  },
  {
   "cell_type": "code",
   "execution_count": 339,
   "metadata": {},
   "outputs": [],
   "source": [
    "import pandas as pd\n",
    "import oandapyV20\n",
    "import oandapyV20.endpoints.instruments as instruments\n",
    "import matplotlib.dates as mpl_dates\n",
    "import matplotlib.pyplot as plt\n",
    "from mpl_finance import candlestick_ohlc\n",
    "import datetime\n",
    "import zulu"
   ]
  },
  {
   "cell_type": "code",
   "execution_count": 341,
   "metadata": {},
   "outputs": [],
   "source": [
    "ID = '1XX-XXX-XXXXXXX-XX1'\n",
    "token = '49XXXXXXXXXXXXXXXXXXXXXXXXXXXXXXXXXXXXXXXXXXXXXXXXXXXXXXXXXXX74'"
   ]
  },
  {
   "cell_type": "code",
   "execution_count": 342,
   "metadata": {},
   "outputs": [],
   "source": [
    "client = oandapyV20.API(access_token=token)"
   ]
  },
  {
   "cell_type": "code",
   "execution_count": 343,
   "metadata": {},
   "outputs": [],
   "source": [
    "params = {\n",
    "          \"count\": 100,\n",
    "          \"granularity\": \"M15\"}"
   ]
  },
  {
   "cell_type": "code",
   "execution_count": 344,
   "metadata": {},
   "outputs": [],
   "source": [
    "r = instruments.InstrumentsCandles(instrument=\"EUR_USD\",\n",
    "                                   params=params)"
   ]
  },
  {
   "cell_type": "code",
   "execution_count": 345,
   "metadata": {},
   "outputs": [],
   "source": [
    "rv = client.request(r)"
   ]
  },
  {
   "cell_type": "code",
   "execution_count": 346,
   "metadata": {},
   "outputs": [],
   "source": [
    "dat = []\n",
    "for oo in r.response['candles']:\n",
    "    dat.append([oo['time'], oo['mid']['o'], oo['mid']['h'], oo['mid']['l'], oo['mid']['c']])"
   ]
  },
  {
   "cell_type": "code",
   "execution_count": 347,
   "metadata": {
    "scrolled": true
   },
   "outputs": [
    {
     "data": {
      "text/html": [
       "<div>\n",
       "<style scoped>\n",
       "    .dataframe tbody tr th:only-of-type {\n",
       "        vertical-align: middle;\n",
       "    }\n",
       "\n",
       "    .dataframe tbody tr th {\n",
       "        vertical-align: top;\n",
       "    }\n",
       "\n",
       "    .dataframe thead th {\n",
       "        text-align: right;\n",
       "    }\n",
       "</style>\n",
       "<table border=\"1\" class=\"dataframe\">\n",
       "  <thead>\n",
       "    <tr style=\"text-align: right;\">\n",
       "      <th></th>\n",
       "      <th>Time</th>\n",
       "      <th>Open</th>\n",
       "      <th>High</th>\n",
       "      <th>Low</th>\n",
       "      <th>Close</th>\n",
       "    </tr>\n",
       "  </thead>\n",
       "  <tbody>\n",
       "    <tr>\n",
       "      <th>0</th>\n",
       "      <td>737509.156250</td>\n",
       "      <td>1.08156</td>\n",
       "      <td>1.08174</td>\n",
       "      <td>1.08070</td>\n",
       "      <td>1.08094</td>\n",
       "    </tr>\n",
       "    <tr>\n",
       "      <th>1</th>\n",
       "      <td>737509.166667</td>\n",
       "      <td>1.08092</td>\n",
       "      <td>1.08098</td>\n",
       "      <td>1.08070</td>\n",
       "      <td>1.08078</td>\n",
       "    </tr>\n",
       "    <tr>\n",
       "      <th>2</th>\n",
       "      <td>737509.177083</td>\n",
       "      <td>1.08076</td>\n",
       "      <td>1.08138</td>\n",
       "      <td>1.08075</td>\n",
       "      <td>1.08086</td>\n",
       "    </tr>\n",
       "    <tr>\n",
       "      <th>3</th>\n",
       "      <td>737509.187500</td>\n",
       "      <td>1.08085</td>\n",
       "      <td>1.08085</td>\n",
       "      <td>1.08035</td>\n",
       "      <td>1.08049</td>\n",
       "    </tr>\n",
       "    <tr>\n",
       "      <th>4</th>\n",
       "      <td>737509.197917</td>\n",
       "      <td>1.08050</td>\n",
       "      <td>1.08122</td>\n",
       "      <td>1.08036</td>\n",
       "      <td>1.08120</td>\n",
       "    </tr>\n",
       "  </tbody>\n",
       "</table>\n",
       "</div>"
      ],
      "text/plain": [
       "            Time     Open     High      Low    Close\n",
       "0  737509.156250  1.08156  1.08174  1.08070  1.08094\n",
       "1  737509.166667  1.08092  1.08098  1.08070  1.08078\n",
       "2  737509.177083  1.08076  1.08138  1.08075  1.08086\n",
       "3  737509.187500  1.08085  1.08085  1.08035  1.08049\n",
       "4  737509.197917  1.08050  1.08122  1.08036  1.08120"
      ]
     },
     "execution_count": 347,
     "metadata": {},
     "output_type": "execute_result"
    }
   ],
   "source": [
    "df = pd.DataFrame(dat)\n",
    "df.columns = ['Time', 'Open', 'High', 'Low', 'Close']\n",
    "df[\"Time\"] = pd.to_datetime(df['Time'])\n",
    "df['Time'] = df['Time'].apply(mpl_dates.date2num)\n",
    "df = df.astype(float)\n",
    "#df = df.set_index('Time')\n",
    "df.head()"
   ]
  },
  {
   "cell_type": "code",
   "execution_count": 348,
   "metadata": {},
   "outputs": [],
   "source": [
    "plt.style.use('ggplot')"
   ]
  },
  {
   "cell_type": "code",
   "execution_count": 349,
   "metadata": {},
   "outputs": [
    {
     "data": {
      "image/png": "[encoded data removed]",
      "text/plain": [
       "<Figure size 432x288 with 1 Axes>"
      ]
     },
     "metadata": {},
     "output_type": "display_data"
    }
   ],
   "source": [
    "# Creating Subplots\n",
    "fig, ax = plt.subplots()\n",
    "\n",
    "candlestick_ohlc(ax, df.values, width=0.007, colorup='green', colordown='red', alpha=0.8)\n",
    "\n",
    "# Setting labels & titles\n",
    "ax.set_xlabel('Date')\n",
    "ax.set_ylabel('Price')\n",
    "fig.suptitle('15 Minutes Candlestick Chart of EUR/USD')\n",
    "\n",
    "# Formatting Date\n",
    "date_format = mpl_dates.DateFormatter('%d-%m-%Y/%H:%M:%S')\n",
    "ax.xaxis.set_major_formatter(date_format)\n",
    "fig.autofmt_xdate()\n",
    "\n",
    "fig.tight_layout()\n",
    "\n",
    "plt.show()"
   ]
  },
  {
   "cell_type": "markdown",
   "metadata": {},
   "source": [
    "## Envelope strategy on EURUSD"
   ]
  },
  {
   "cell_type": "code",
   "execution_count": 350,
   "metadata": {
    "scrolled": true
   },
   "outputs": [
    {
     "data": {
      "text/html": [
       "<div>\n",
       "<style scoped>\n",
       "    .dataframe tbody tr th:only-of-type {\n",
       "        vertical-align: middle;\n",
       "    }\n",
       "\n",
       "    .dataframe tbody tr th {\n",
       "        vertical-align: top;\n",
       "    }\n",
       "\n",
       "    .dataframe thead th {\n",
       "        text-align: right;\n",
       "    }\n",
       "</style>\n",
       "<table border=\"1\" class=\"dataframe\">\n",
       "  <thead>\n",
       "    <tr style=\"text-align: right;\">\n",
       "      <th></th>\n",
       "      <th>Time</th>\n",
       "      <th>Open</th>\n",
       "      <th>High</th>\n",
       "      <th>Low</th>\n",
       "      <th>Close</th>\n",
       "    </tr>\n",
       "  </thead>\n",
       "  <tbody>\n",
       "    <tr>\n",
       "      <th>0</th>\n",
       "      <td>733863.000000</td>\n",
       "      <td>1.35269</td>\n",
       "      <td>1.35461</td>\n",
       "      <td>1.35233</td>\n",
       "      <td>1.35414</td>\n",
       "    </tr>\n",
       "    <tr>\n",
       "      <th>1</th>\n",
       "      <td>733863.010417</td>\n",
       "      <td>1.35412</td>\n",
       "      <td>1.35616</td>\n",
       "      <td>1.35376</td>\n",
       "      <td>1.35516</td>\n",
       "    </tr>\n",
       "    <tr>\n",
       "      <th>2</th>\n",
       "      <td>733863.020833</td>\n",
       "      <td>1.35519</td>\n",
       "      <td>1.35543</td>\n",
       "      <td>1.35445</td>\n",
       "      <td>1.35460</td>\n",
       "    </tr>\n",
       "    <tr>\n",
       "      <th>3</th>\n",
       "      <td>733863.031250</td>\n",
       "      <td>1.35462</td>\n",
       "      <td>1.35474</td>\n",
       "      <td>1.35260</td>\n",
       "      <td>1.35298</td>\n",
       "    </tr>\n",
       "    <tr>\n",
       "      <th>4</th>\n",
       "      <td>733863.041667</td>\n",
       "      <td>1.35298</td>\n",
       "      <td>1.35298</td>\n",
       "      <td>1.35179</td>\n",
       "      <td>1.35179</td>\n",
       "    </tr>\n",
       "  </tbody>\n",
       "</table>\n",
       "</div>"
      ],
      "text/plain": [
       "            Time     Open     High      Low    Close\n",
       "0  733863.000000  1.35269  1.35461  1.35233  1.35414\n",
       "1  733863.010417  1.35412  1.35616  1.35376  1.35516\n",
       "2  733863.020833  1.35519  1.35543  1.35445  1.35460\n",
       "3  733863.031250  1.35462  1.35474  1.35260  1.35298\n",
       "4  733863.041667  1.35298  1.35298  1.35179  1.35179"
      ]
     },
     "execution_count": 350,
     "metadata": {},
     "output_type": "execute_result"
    }
   ],
   "source": [
    "# To do only to start the dataset\n",
    "params = {\n",
    "        \"from\": \"2010-04-01T00:00:00Z\",\n",
    "        \"granularity\": \"M15\"}\n",
    "\n",
    "r = instruments.InstrumentsCandles(instrument=\"EUR_USD\",\n",
    "                                   params=params)\n",
    "\n",
    "rv = client.request(r)\n",
    "\n",
    "dat = []\n",
    "for oo in r.response['candles']:\n",
    "    dat.append([oo['time'], oo['mid']['o'], oo['mid']['h'], oo['mid']['l'], oo['mid']['c']])\n",
    "    \n",
    "eurusd = pd.DataFrame(dat)\n",
    "eurusd.columns = ['Time', 'Open', 'High', 'Low', 'Close']\n",
    "eurusd[\"Time\"] = pd.to_datetime(eurusd['Time'])\n",
    "Date = eurusd['Time']\n",
    "eurusd['Time'] = eurusd['Time'].apply(mpl_dates.date2num)\n",
    "eurusd = eurusd.astype(float)\n",
    "eurusd.head()"
   ]
  },
  {
   "cell_type": "code",
   "execution_count": 351,
   "metadata": {},
   "outputs": [],
   "source": [
    "# Loop to feed the dataset with new rates\n",
    "while Date.iloc[-1].year != 2020 or Date.iloc[-1].month != 3:\n",
    "    \n",
    "    last = Date.iloc[-1]\n",
    "    inizio = last + datetime.timedelta(minutes=15)\n",
    "    inizio = zulu.create(inizio.year, inizio.month, inizio.day, inizio.hour, inizio.minute)\n",
    "    inizio = inizio.isoformat('T')+'Z'\n",
    "    inizio = str(inizio[:-8] + 'Z')\n",
    "\n",
    "    params = {\n",
    "            \"from\": inizio,\n",
    "            \"granularity\": \"M15\"}\n",
    "\n",
    "    r = instruments.InstrumentsCandles(instrument=\"EUR_USD\",\n",
    "                                       params=params)\n",
    "\n",
    "    rv = client.request(r)\n",
    "\n",
    "    newDat = []\n",
    "    for oo in r.response['candles']:\n",
    "        newDat.append([oo['time'], oo['mid']['o'], oo['mid']['h'], oo['mid']['l'], oo['mid']['c']])\n",
    "    \n",
    "    newEurusd = pd.DataFrame(newDat)\n",
    "    newEurusd.columns = ['Time', 'Open', 'High', 'Low', 'Close']\n",
    "    newEurusd[\"Time\"] = pd.to_datetime(newEurusd['Time'])\n",
    "    Date = Date.append(newEurusd['Time'])\n",
    "    newEurusd['Time'] = newEurusd['Time'].apply(mpl_dates.date2num)\n",
    "    newEurusd = newEurusd.astype(float)\n",
    "    eurusd = eurusd.append(newEurusd)"
   ]
  },
  {
   "cell_type": "code",
   "execution_count": 352,
   "metadata": {},
   "outputs": [
    {
     "name": "stdout",
     "output_type": "stream",
     "text": [
      "(249500, 5)\n",
      "2010-04-01 00:00:00\n",
      "2020-03-04 03:00:00\n",
      "            Time     Open     High      Low    Close\n",
      "0  733863.000000  1.35269  1.35461  1.35233  1.35414\n",
      "1  733863.010417  1.35412  1.35616  1.35376  1.35516\n",
      "2  733863.020833  1.35519  1.35543  1.35445  1.35460\n",
      "3  733863.031250  1.35462  1.35474  1.35260  1.35298\n",
      "4  733863.041667  1.35298  1.35298  1.35179  1.35179\n"
     ]
    }
   ],
   "source": [
    "#First and Last Day of the dataset\n",
    "print(eurusd.shape)\n",
    "print(Date.iloc[0])\n",
    "print(Date.iloc[-1])\n",
    "print(eurusd.head(5))"
   ]
  }
 ],
 "metadata": {
  "kernelspec": {
   "display_name": "Python 3",
   "language": "python",
   "name": "python3"
  },
  "language_info": {
   "codemirror_mode": {
    "name": "ipython",
    "version": 3
   },
   "file_extension": ".py",
   "mimetype": "text/x-python",
   "name": "python",
   "nbconvert_exporter": "python",
   "pygments_lexer": "ipython3",
   "version": "3.7.1"
  }
 },
 "nbformat": 4,
 "nbformat_minor": 2
}
