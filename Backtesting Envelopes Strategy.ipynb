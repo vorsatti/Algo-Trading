{
 "cells": [
  {
   "cell_type": "code",
   "execution_count": 1,
   "metadata": {},
   "outputs": [],
   "source": [
    "import numpy as np\n",
    "import pandas as pd\n",
    "import oandapyV20\n",
    "import oandapyV20.endpoints.instruments as instruments\n",
    "import matplotlib.dates as mpl_dates\n",
    "import matplotlib.pyplot as plt\n",
    "from mpl_finance import candlestick_ohlc\n",
    "import datetime\n",
    "import zulu\n",
    "import os\n",
    "pd.set_option('display.float_format', '{:.4f}'.format)\n",
    "\n",
    "ID = '101-004-9949998-001'\n",
    "token = '4900a27fe17ab573d490ce234465329f-6633f44d08bf25b48ceaacd2c7917674'\n",
    "\n",
    "client = oandapyV20.API(access_token=token)"
   ]
  },
  {
   "cell_type": "code",
   "execution_count": 2,
   "metadata": {},
   "outputs": [],
   "source": [
    "# Loop to create the dataset\n",
    "Date = pd.Series(datetime.datetime(2010, 1, 1, 0, 0, 0))\n",
    "eurusd = pd.DataFrame()\n",
    "\n",
    "\n",
    "while Date.iloc[-1].year != 2020 or Date.iloc[-1].month != 5:\n",
    "    \n",
    "    last = Date.iloc[-1]\n",
    "    inizio = last + datetime.timedelta(minutes=5)\n",
    "    inizio = zulu.create(inizio.year, inizio.month, inizio.day, inizio.hour, inizio.minute)\n",
    "    inizio = inizio.isoformat('T')+'Z'\n",
    "    inizio = str(inizio[:-8] + 'Z')\n",
    "\n",
    "    params = {\n",
    "            \"from\": inizio,\n",
    "            \"granularity\": \"M5\"}\n",
    "\n",
    "    r = instruments.InstrumentsCandles(instrument=\"EUR_USD\",\n",
    "                                       params=params)\n",
    "\n",
    "    rv = client.request(r)\n",
    "\n",
    "    newDat = []\n",
    "    for oo in r.response['candles']:\n",
    "        newDat.append([oo['time'], oo['mid']['o'], oo['mid']['h'], oo['mid']['l'], oo['mid']['c']])\n",
    "    \n",
    "    newEurusd = pd.DataFrame(newDat)\n",
    "    newEurusd.columns = ['Time', 'Open', 'High', 'Low', 'Close']\n",
    "    newEurusd[\"Time\"] = pd.to_datetime(newEurusd['Time'])\n",
    "    Date = Date.append(newEurusd['Time'])\n",
    "    eurusd = eurusd.append(newEurusd)"
   ]
  },
  {
   "cell_type": "code",
   "execution_count": 3,
   "metadata": {},
   "outputs": [
    {
     "data": {
      "text/html": [
       "<div>\n",
       "<style scoped>\n",
       "    .dataframe tbody tr th:only-of-type {\n",
       "        vertical-align: middle;\n",
       "    }\n",
       "\n",
       "    .dataframe tbody tr th {\n",
       "        vertical-align: top;\n",
       "    }\n",
       "\n",
       "    .dataframe thead th {\n",
       "        text-align: right;\n",
       "    }\n",
       "</style>\n",
       "<table border=\"1\" class=\"dataframe\">\n",
       "  <thead>\n",
       "    <tr style=\"text-align: right;\">\n",
       "      <th></th>\n",
       "      <th>Time</th>\n",
       "      <th>Open</th>\n",
       "      <th>High</th>\n",
       "      <th>Low</th>\n",
       "      <th>Close</th>\n",
       "    </tr>\n",
       "  </thead>\n",
       "  <tbody>\n",
       "    <tr>\n",
       "      <th>0</th>\n",
       "      <td>2010-01-03 17:50:00</td>\n",
       "      <td>1.43120</td>\n",
       "      <td>1.43120</td>\n",
       "      <td>1.43120</td>\n",
       "      <td>1.43120</td>\n",
       "    </tr>\n",
       "    <tr>\n",
       "      <th>1</th>\n",
       "      <td>2010-01-03 17:55:00</td>\n",
       "      <td>1.43172</td>\n",
       "      <td>1.43172</td>\n",
       "      <td>1.43172</td>\n",
       "      <td>1.43172</td>\n",
       "    </tr>\n",
       "    <tr>\n",
       "      <th>2</th>\n",
       "      <td>2010-01-03 18:00:00</td>\n",
       "      <td>1.43172</td>\n",
       "      <td>1.43328</td>\n",
       "      <td>1.43172</td>\n",
       "      <td>1.43328</td>\n",
       "    </tr>\n",
       "    <tr>\n",
       "      <th>3</th>\n",
       "      <td>2010-01-03 18:05:00</td>\n",
       "      <td>1.43323</td>\n",
       "      <td>1.43425</td>\n",
       "      <td>1.43150</td>\n",
       "      <td>1.43150</td>\n",
       "    </tr>\n",
       "    <tr>\n",
       "      <th>4</th>\n",
       "      <td>2010-01-03 18:10:00</td>\n",
       "      <td>1.43105</td>\n",
       "      <td>1.43150</td>\n",
       "      <td>1.43105</td>\n",
       "      <td>1.43110</td>\n",
       "    </tr>\n",
       "  </tbody>\n",
       "</table>\n",
       "</div>"
      ],
      "text/plain": [
       "                 Time     Open     High      Low    Close\n",
       "0 2010-01-03 17:50:00  1.43120  1.43120  1.43120  1.43120\n",
       "1 2010-01-03 17:55:00  1.43172  1.43172  1.43172  1.43172\n",
       "2 2010-01-03 18:00:00  1.43172  1.43328  1.43172  1.43328\n",
       "3 2010-01-03 18:05:00  1.43323  1.43425  1.43150  1.43150\n",
       "4 2010-01-03 18:10:00  1.43105  1.43150  1.43105  1.43110"
      ]
     },
     "execution_count": 3,
     "metadata": {},
     "output_type": "execute_result"
    }
   ],
   "source": [
    "eurusd.head()"
   ]
  },
  {
   "cell_type": "code",
   "execution_count": 230,
   "metadata": {},
   "outputs": [],
   "source": [
    "#eurusd.to_csv(os.getcwd()+'\\\\eurusd5min.csv')\n",
    "eurusd = pd.read_csv(os.getcwd()+'\\\\eurusd5min.csv', index_col=0)"
   ]
  },
  {
   "cell_type": "code",
   "execution_count": 231,
   "metadata": {},
   "outputs": [],
   "source": [
    "# Exponential Moving Averages\n",
    "eurusd[\"ema40\"] = eurusd[\"Close\"].ewm(span=40, min_periods=40, adjust=False).mean()\n",
    "deviation = 0.0015\n",
    "eurusd[\"UL\"] = eurusd[\"ema40\"] + (eurusd[\"ema40\"] * deviation)\n",
    "eurusd[\"LL\"] = eurusd[\"ema40\"] - (eurusd[\"ema40\"] * deviation)"
   ]
  },
  {
   "cell_type": "code",
   "execution_count": 232,
   "metadata": {},
   "outputs": [],
   "source": [
    "eurusd = eurusd.iloc[39:]\n",
    "eurusd.index = range(eurusd.shape[0])"
   ]
  },
  {
   "cell_type": "code",
   "execution_count": 233,
   "metadata": {},
   "outputs": [
    {
     "data": {
      "text/html": [
       "<div>\n",
       "<style scoped>\n",
       "    .dataframe tbody tr th:only-of-type {\n",
       "        vertical-align: middle;\n",
       "    }\n",
       "\n",
       "    .dataframe tbody tr th {\n",
       "        vertical-align: top;\n",
       "    }\n",
       "\n",
       "    .dataframe thead th {\n",
       "        text-align: right;\n",
       "    }\n",
       "</style>\n",
       "<table border=\"1\" class=\"dataframe\">\n",
       "  <thead>\n",
       "    <tr style=\"text-align: right;\">\n",
       "      <th></th>\n",
       "      <th>Time</th>\n",
       "      <th>Open</th>\n",
       "      <th>High</th>\n",
       "      <th>Low</th>\n",
       "      <th>Close</th>\n",
       "      <th>ema40</th>\n",
       "      <th>UL</th>\n",
       "      <th>LL</th>\n",
       "    </tr>\n",
       "  </thead>\n",
       "  <tbody>\n",
       "    <tr>\n",
       "      <th>0</th>\n",
       "      <td>2010-01-03 21:05:00</td>\n",
       "      <td>1.4308</td>\n",
       "      <td>1.4309</td>\n",
       "      <td>1.4308</td>\n",
       "      <td>1.4308</td>\n",
       "      <td>1.4313</td>\n",
       "      <td>1.4335</td>\n",
       "      <td>1.4292</td>\n",
       "    </tr>\n",
       "    <tr>\n",
       "      <th>1</th>\n",
       "      <td>2010-01-03 21:10:00</td>\n",
       "      <td>1.4309</td>\n",
       "      <td>1.4311</td>\n",
       "      <td>1.4309</td>\n",
       "      <td>1.4310</td>\n",
       "      <td>1.4313</td>\n",
       "      <td>1.4334</td>\n",
       "      <td>1.4291</td>\n",
       "    </tr>\n",
       "    <tr>\n",
       "      <th>2</th>\n",
       "      <td>2010-01-03 21:15:00</td>\n",
       "      <td>1.4310</td>\n",
       "      <td>1.4311</td>\n",
       "      <td>1.4310</td>\n",
       "      <td>1.4311</td>\n",
       "      <td>1.4313</td>\n",
       "      <td>1.4334</td>\n",
       "      <td>1.4291</td>\n",
       "    </tr>\n",
       "    <tr>\n",
       "      <th>3</th>\n",
       "      <td>2010-01-03 21:20:00</td>\n",
       "      <td>1.4311</td>\n",
       "      <td>1.4311</td>\n",
       "      <td>1.4307</td>\n",
       "      <td>1.4308</td>\n",
       "      <td>1.4313</td>\n",
       "      <td>1.4334</td>\n",
       "      <td>1.4291</td>\n",
       "    </tr>\n",
       "    <tr>\n",
       "      <th>4</th>\n",
       "      <td>2010-01-03 21:25:00</td>\n",
       "      <td>1.4308</td>\n",
       "      <td>1.4309</td>\n",
       "      <td>1.4308</td>\n",
       "      <td>1.4308</td>\n",
       "      <td>1.4312</td>\n",
       "      <td>1.4334</td>\n",
       "      <td>1.4291</td>\n",
       "    </tr>\n",
       "  </tbody>\n",
       "</table>\n",
       "</div>"
      ],
      "text/plain": [
       "                  Time   Open   High    Low  Close  ema40     UL     LL\n",
       "0  2010-01-03 21:05:00 1.4308 1.4309 1.4308 1.4308 1.4313 1.4335 1.4292\n",
       "1  2010-01-03 21:10:00 1.4309 1.4311 1.4309 1.4310 1.4313 1.4334 1.4291\n",
       "2  2010-01-03 21:15:00 1.4310 1.4311 1.4310 1.4311 1.4313 1.4334 1.4291\n",
       "3  2010-01-03 21:20:00 1.4311 1.4311 1.4307 1.4308 1.4313 1.4334 1.4291\n",
       "4  2010-01-03 21:25:00 1.4308 1.4309 1.4308 1.4308 1.4312 1.4334 1.4291"
      ]
     },
     "execution_count": 233,
     "metadata": {},
     "output_type": "execute_result"
    }
   ],
   "source": [
    "eurusd.head(5)"
   ]
  },
  {
   "cell_type": "code",
   "execution_count": 234,
   "metadata": {},
   "outputs": [],
   "source": [
    "eurusd[\"buyTrigger\"] = 0\n",
    "eurusd[\"buyWin\"] = 0 \n",
    "eurusd[\"sellTrigger\"] = 0 \n",
    "eurusd[\"sellWin\"] = 0 \n",
    "\n",
    "eurusd[\"buyTrigger\"] = np.where(eurusd[\"Close\"] < eurusd[\"LL\"], 1,0)\n",
    "eurusd[\"buyWin\"] = np.where(eurusd[\"Close\"] > eurusd[\"UL\"], 1,0)\n",
    "eurusd[\"sellTrigger\"] = np.where(eurusd[\"Close\"] > eurusd[\"UL\"], 1,0)\n",
    "eurusd[\"sellWin\"] = np.where(eurusd[\"Close\"] < eurusd[\"LL\"], 1,0)"
   ]
  },
  {
   "cell_type": "code",
   "execution_count": 235,
   "metadata": {},
   "outputs": [],
   "source": [
    "eurusdBuy = eurusd.drop([\"sellTrigger\",\"sellWin\"], axis=1)\n",
    "eurusdSell = eurusd.drop([\"buyTrigger\",\"buyWin\"], axis=1)"
   ]
  },
  {
   "cell_type": "markdown",
   "metadata": {},
   "source": [
    "### Long"
   ]
  },
  {
   "cell_type": "code",
   "execution_count": 236,
   "metadata": {},
   "outputs": [
    {
     "data": {
      "text/plain": [
       "45220.5"
      ]
     },
     "execution_count": 236,
     "metadata": {},
     "output_type": "execute_result"
    }
   ],
   "source": [
    "# Due to my account equity, it's unrealistic that I will be able to average down my entry opening 30 trades\n",
    "size=3000\n",
    "sizeList = []\n",
    "for i in range(7):\n",
    "    sizeList.append(size)\n",
    "    size = size*1.25\n",
    "\n",
    "round(sum(sizeList),1)"
   ]
  },
  {
   "cell_type": "code",
   "execution_count": 237,
   "metadata": {},
   "outputs": [],
   "source": [
    "# To start the dataset with a buyTrigger==1\n",
    "eurusdBuy = eurusdBuy.iloc[37:]\n",
    "eurusdBuy.index = range(eurusdBuy.shape[0])"
   ]
  },
  {
   "cell_type": "code",
   "execution_count": 238,
   "metadata": {
    "scrolled": true
   },
   "outputs": [],
   "source": [
    "def Backtesting(maxEntries, size, incrementSize, entryDistance):\n",
    "    \n",
    "    splits = np.append(np.where(np.diff(eurusdBuy[\"buyWin\"]) != 0)[0]+1,len(eurusdBuy[\"buyWin\"]))\n",
    "    prev = 0\n",
    "    price = []\n",
    "    exit = []\n",
    "    totSize = []\n",
    "    tradeCount = []\n",
    "    time = []\n",
    "    totFees = []\n",
    "    maxEntriesPerTrade = maxEntries\n",
    "    totProfit = 0\n",
    "\n",
    "    for split in splits[:-2]:\n",
    "    \n",
    "        indici = []\n",
    "        indiciWhereBuy = []\n",
    "        entryList = []\n",
    "        sizeList = []\n",
    "        fees = []\n",
    "        sizePerTrade=size\n",
    "    \n",
    "        indici = np.arange(0,eurusdBuy[\"buyTrigger\"].size,1)[prev:split]\n",
    "        indiciWhereBuy = np.where(eurusdBuy[\"buyTrigger\"].loc[indici]==1)[0]\n",
    "        indiciWhereBuy = indiciWhereBuy + prev\n",
    "        if len(indiciWhereBuy)>0:\n",
    "            lastEntry = eurusdBuy[\"Close\"].loc[indiciWhereBuy[0]] + (entryDistance+1)/10000\n",
    "            countEntries = 0\n",
    "            for i in range(len(indiciWhereBuy)-1):\n",
    "                if eurusdBuy[\"Close\"].loc[indiciWhereBuy[i+1]] < lastEntry - entryDistance/10000:\n",
    "                    countEntries = countEntries + 1\n",
    "                    if countEntries <= maxEntriesPerTrade:  \n",
    "                        lastEntry = eurusdBuy[\"Close\"].loc[indiciWhereBuy[i+1]]\n",
    "                        sizePerTrade=sizePerTrade*incrementSize\n",
    "                        entryList.append(lastEntry * sizePerTrade)\n",
    "                        sizeList.append(sizePerTrade)\n",
    "                        fees.append(sizePerTrade*0.00008)\n",
    "                    else:\n",
    "                        i = len(indiciWhereBuy)-1\n",
    "        \n",
    "            price.append(sum(entryList))\n",
    "            totSize.append(sum(sizeList))\n",
    "            tradeCount.append(len(entryList))\n",
    "            exit.append(eurusdBuy[\"High\"][split])\n",
    "            totFees.append(sum(fees))\n",
    "            time.append(eurusdBuy[\"Time\"].loc[prev])\n",
    "    \n",
    "            prev = split\n",
    "        \n",
    "    data = {\"Time\": time, 'Price':price, 'Exit':exit, 'TradeExecuted':tradeCount, 'Size':totSize, \"Fees\":totFees}\n",
    "    long = pd.DataFrame(data=data, index=range(len(time)))\n",
    "\n",
    "    long = long[long[\"TradeExecuted\"]!=0]\n",
    "\n",
    "    long[\"AveragePrice\"] = long[\"Price\"]/long[\"Size\"]\n",
    "    long = long[[\"Time\", \"AveragePrice\", 'Exit', 'TradeExecuted', 'Size', \"Fees\"]]\n",
    "    long['Pips'] = (long[\"Exit\"] - long[\"AveragePrice\"])*10000\n",
    "    long[\"P/L\"] = long[\"Size\"]*(long[\"Exit\"] - long[\"AveragePrice\"])-long[\"Fees\"]\n",
    "    \n",
    "    totProfit = round(long[\"P/L\"].sum())\n",
    "        \n",
    "    return long, totProfit"
   ]
  },
  {
   "cell_type": "code",
   "execution_count": 239,
   "metadata": {},
   "outputs": [
    {
     "name": "stdout",
     "output_type": "stream",
     "text": [
      "Tot P/L of dictionary with key 0 is: -38.0\n",
      "Tot P/L of dictionary with key 1 is: -76.0\n",
      "Tot P/L of dictionary with key 2 is: -114.0\n",
      "Tot P/L of dictionary with key 3 is: 91.0\n",
      "Tot P/L of dictionary with key 4 is: 181.0\n",
      "Tot P/L of dictionary with key 5 is: 272.0\n",
      "Tot P/L of dictionary with key 6 is: 158.0\n",
      "Tot P/L of dictionary with key 7 is: 316.0\n",
      "Tot P/L of dictionary with key 8 is: 474.0\n",
      "Tot P/L of dictionary with key 9 is: 206.0\n",
      "Tot P/L of dictionary with key 10 is: 412.0\n",
      "Tot P/L of dictionary with key 11 is: 618.0\n",
      "Tot P/L of dictionary with key 12 is: -42.0\n",
      "Tot P/L of dictionary with key 13 is: -84.0\n",
      "Tot P/L of dictionary with key 14 is: -126.0\n",
      "Tot P/L of dictionary with key 15 is: 127.0\n",
      "Tot P/L of dictionary with key 16 is: 254.0\n",
      "Tot P/L of dictionary with key 17 is: 381.0\n",
      "Tot P/L of dictionary with key 18 is: 226.0\n",
      "Tot P/L of dictionary with key 19 is: 451.0\n",
      "Tot P/L of dictionary with key 20 is: 677.0\n",
      "Tot P/L of dictionary with key 21 is: 316.0\n",
      "Tot P/L of dictionary with key 22 is: 633.0\n",
      "Tot P/L of dictionary with key 23 is: 949.0\n",
      "Tot P/L of dictionary with key 24 is: -48.0\n",
      "Tot P/L of dictionary with key 25 is: -95.0\n",
      "Tot P/L of dictionary with key 26 is: -143.0\n",
      "Tot P/L of dictionary with key 27 is: 195.0\n",
      "Tot P/L of dictionary with key 28 is: 390.0\n",
      "Tot P/L of dictionary with key 29 is: 586.0\n",
      "Tot P/L of dictionary with key 30 is: 361.0\n",
      "Tot P/L of dictionary with key 31 is: 722.0\n",
      "Tot P/L of dictionary with key 32 is: 1083.0\n",
      "Tot P/L of dictionary with key 33 is: 573.0\n",
      "Tot P/L of dictionary with key 34 is: 1146.0\n",
      "Tot P/L of dictionary with key 35 is: 1719.0\n",
      "Tot P/L of dictionary with key 36 is: -38.0\n",
      "Tot P/L of dictionary with key 37 is: -76.0\n",
      "Tot P/L of dictionary with key 38 is: -114.0\n",
      "Tot P/L of dictionary with key 39 is: 33.0\n",
      "Tot P/L of dictionary with key 40 is: 66.0\n",
      "Tot P/L of dictionary with key 41 is: 99.0\n",
      "Tot P/L of dictionary with key 42 is: 215.0\n",
      "Tot P/L of dictionary with key 43 is: 430.0\n",
      "Tot P/L of dictionary with key 44 is: 645.0\n",
      "Tot P/L of dictionary with key 45 is: 265.0\n",
      "Tot P/L of dictionary with key 46 is: 529.0\n",
      "Tot P/L of dictionary with key 47 is: 794.0\n",
      "Tot P/L of dictionary with key 48 is: -42.0\n",
      "Tot P/L of dictionary with key 49 is: -84.0\n",
      "Tot P/L of dictionary with key 50 is: -126.0\n",
      "Tot P/L of dictionary with key 51 is: 59.0\n",
      "Tot P/L of dictionary with key 52 is: 118.0\n",
      "Tot P/L of dictionary with key 53 is: 177.0\n",
      "Tot P/L of dictionary with key 54 is: 343.0\n",
      "Tot P/L of dictionary with key 55 is: 687.0\n",
      "Tot P/L of dictionary with key 56 is: 1030.0\n",
      "Tot P/L of dictionary with key 57 is: 435.0\n",
      "Tot P/L of dictionary with key 58 is: 870.0\n",
      "Tot P/L of dictionary with key 59 is: 1305.0\n",
      "Tot P/L of dictionary with key 60 is: -48.0\n",
      "Tot P/L of dictionary with key 61 is: -95.0\n",
      "Tot P/L of dictionary with key 62 is: -143.0\n",
      "Tot P/L of dictionary with key 63 is: 111.0\n",
      "Tot P/L of dictionary with key 64 is: 223.0\n",
      "Tot P/L of dictionary with key 65 is: 334.0\n",
      "Tot P/L of dictionary with key 66 is: 630.0\n",
      "Tot P/L of dictionary with key 67 is: 1261.0\n",
      "Tot P/L of dictionary with key 68 is: 1891.0\n",
      "Tot P/L of dictionary with key 69 is: 839.0\n",
      "Tot P/L of dictionary with key 70 is: 1678.0\n",
      "Tot P/L of dictionary with key 71 is: 2517.0\n",
      "Tot P/L of dictionary with key 72 is: -38.0\n",
      "Tot P/L of dictionary with key 73 is: -76.0\n",
      "Tot P/L of dictionary with key 74 is: -114.0\n",
      "Tot P/L of dictionary with key 75 is: 29.0\n",
      "Tot P/L of dictionary with key 76 is: 57.0\n",
      "Tot P/L of dictionary with key 77 is: 86.0\n",
      "Tot P/L of dictionary with key 78 is: 112.0\n",
      "Tot P/L of dictionary with key 79 is: 225.0\n",
      "Tot P/L of dictionary with key 80 is: 337.0\n",
      "Tot P/L of dictionary with key 81 is: 153.0\n",
      "Tot P/L of dictionary with key 82 is: 306.0\n",
      "Tot P/L of dictionary with key 83 is: 458.0\n",
      "Tot P/L of dictionary with key 84 is: -42.0\n",
      "Tot P/L of dictionary with key 85 is: -84.0\n",
      "Tot P/L of dictionary with key 86 is: -126.0\n",
      "Tot P/L of dictionary with key 87 is: 46.0\n",
      "Tot P/L of dictionary with key 88 is: 92.0\n",
      "Tot P/L of dictionary with key 89 is: 137.0\n",
      "Tot P/L of dictionary with key 90 is: 178.0\n",
      "Tot P/L of dictionary with key 91 is: 355.0\n",
      "Tot P/L of dictionary with key 92 is: 533.0\n",
      "Tot P/L of dictionary with key 93 is: 260.0\n",
      "Tot P/L of dictionary with key 94 is: 519.0\n",
      "Tot P/L of dictionary with key 95 is: 779.0\n",
      "Tot P/L of dictionary with key 96 is: -48.0\n",
      "Tot P/L of dictionary with key 97 is: -95.0\n",
      "Tot P/L of dictionary with key 98 is: -143.0\n",
      "Tot P/L of dictionary with key 99 is: 79.0\n",
      "Tot P/L of dictionary with key 100 is: 158.0\n",
      "Tot P/L of dictionary with key 101 is: 237.0\n",
      "Tot P/L of dictionary with key 102 is: 322.0\n",
      "Tot P/L of dictionary with key 103 is: 644.0\n",
      "Tot P/L of dictionary with key 104 is: 966.0\n",
      "Tot P/L of dictionary with key 105 is: 532.0\n",
      "Tot P/L of dictionary with key 106 is: 1065.0\n",
      "Tot P/L of dictionary with key 107 is: 1597.0\n"
     ]
    }
   ],
   "source": [
    "from sklearn.model_selection import ParameterGrid\n",
    "param_grid = {'maxEntries': [1, 3, 5, 7], \n",
    "              'size' : [1000, 2000, 3000], \n",
    "              'incrementSize': [1, 1.10, 1.25], \n",
    "              'entryDistance' : [3, 5, 7]}\n",
    "\n",
    "grid = ParameterGrid(param_grid)\n",
    "\n",
    "PLdictionary = {}\n",
    "z = 0\n",
    "\n",
    "for params in grid:\n",
    "    long, totProfit = Backtesting(params['maxEntries'], params['size'], params['incrementSize'], params['entryDistance'])\n",
    "    print('Tot P/L of dictionary with key ' + str(z) + ' is: ' + str(totProfit))\n",
    "    PLdictionary[z] = params\n",
    "    PLdictionary[z][\"PL\"] = totProfit\n",
    "    z = z + 1"
   ]
  },
  {
   "cell_type": "code",
   "execution_count": 240,
   "metadata": {},
   "outputs": [
    {
     "name": "stdout",
     "output_type": "stream",
     "text": [
      "2517.0\n",
      "{'entryDistance': 5, 'incrementSize': 1.25, 'maxEntries': 7, 'size': 3000, 'PL': 2517.0}\n"
     ]
    }
   ],
   "source": [
    "#Best performance\n",
    "maxpl=0\n",
    "for i in range(len(PLdictionary)):\n",
    "    pl = PLdictionary[i][\"PL\"]\n",
    "    if pl>maxpl:\n",
    "        maxpl = pl\n",
    "        dictNumber = i\n",
    "print(maxpl)\n",
    "print(PLdictionary[dictNumber])"
   ]
  },
  {
   "cell_type": "code",
   "execution_count": 241,
   "metadata": {},
   "outputs": [],
   "source": [
    "long, totProfit = Backtesting(maxEntries=7, size=3000, incrementSize=1.25, entryDistance=5)"
   ]
  },
  {
   "cell_type": "code",
   "execution_count": 242,
   "metadata": {},
   "outputs": [
    {
     "data": {
      "text/html": [
       "<div>\n",
       "<style scoped>\n",
       "    .dataframe tbody tr th:only-of-type {\n",
       "        vertical-align: middle;\n",
       "    }\n",
       "\n",
       "    .dataframe tbody tr th {\n",
       "        vertical-align: top;\n",
       "    }\n",
       "\n",
       "    .dataframe thead th {\n",
       "        text-align: right;\n",
       "    }\n",
       "</style>\n",
       "<table border=\"1\" class=\"dataframe\">\n",
       "  <thead>\n",
       "    <tr style=\"text-align: right;\">\n",
       "      <th></th>\n",
       "      <th>Time</th>\n",
       "      <th>AveragePrice</th>\n",
       "      <th>Exit</th>\n",
       "      <th>TradeExecuted</th>\n",
       "      <th>Size</th>\n",
       "      <th>Fees</th>\n",
       "      <th>Pips</th>\n",
       "      <th>P/L</th>\n",
       "    </tr>\n",
       "  </thead>\n",
       "  <tbody>\n",
       "    <tr>\n",
       "      <th>0</th>\n",
       "      <td>2010-01-04 00:10:00</td>\n",
       "      <td>1.4271</td>\n",
       "      <td>1.4320</td>\n",
       "      <td>4</td>\n",
       "      <td>21621.0938</td>\n",
       "      <td>1.7297</td>\n",
       "      <td>48.9328</td>\n",
       "      <td>104.0684</td>\n",
       "    </tr>\n",
       "    <tr>\n",
       "      <th>1</th>\n",
       "      <td>2010-01-04 08:00:00</td>\n",
       "      <td>1.4413</td>\n",
       "      <td>1.4452</td>\n",
       "      <td>1</td>\n",
       "      <td>3750.0000</td>\n",
       "      <td>0.3000</td>\n",
       "      <td>38.8000</td>\n",
       "      <td>14.2500</td>\n",
       "    </tr>\n",
       "    <tr>\n",
       "      <th>2</th>\n",
       "      <td>2010-01-05 12:40:00</td>\n",
       "      <td>1.4334</td>\n",
       "      <td>1.4371</td>\n",
       "      <td>7</td>\n",
       "      <td>56525.5737</td>\n",
       "      <td>4.5220</td>\n",
       "      <td>36.9571</td>\n",
       "      <td>204.3801</td>\n",
       "    </tr>\n",
       "    <tr>\n",
       "      <th>3</th>\n",
       "      <td>2010-01-06 09:30:00</td>\n",
       "      <td>1.4335</td>\n",
       "      <td>1.4370</td>\n",
       "      <td>7</td>\n",
       "      <td>56525.5737</td>\n",
       "      <td>4.5220</td>\n",
       "      <td>34.3283</td>\n",
       "      <td>189.5204</td>\n",
       "    </tr>\n",
       "    <tr>\n",
       "      <th>5</th>\n",
       "      <td>2010-01-08 17:00:00</td>\n",
       "      <td>1.4464</td>\n",
       "      <td>1.4527</td>\n",
       "      <td>1</td>\n",
       "      <td>3750.0000</td>\n",
       "      <td>0.3000</td>\n",
       "      <td>62.4000</td>\n",
       "      <td>23.1000</td>\n",
       "    </tr>\n",
       "  </tbody>\n",
       "</table>\n",
       "</div>"
      ],
      "text/plain": [
       "                  Time  AveragePrice   Exit  TradeExecuted       Size   Fees  \\\n",
       "0  2010-01-04 00:10:00        1.4271 1.4320              4 21621.0938 1.7297   \n",
       "1  2010-01-04 08:00:00        1.4413 1.4452              1  3750.0000 0.3000   \n",
       "2  2010-01-05 12:40:00        1.4334 1.4371              7 56525.5737 4.5220   \n",
       "3  2010-01-06 09:30:00        1.4335 1.4370              7 56525.5737 4.5220   \n",
       "5  2010-01-08 17:00:00        1.4464 1.4527              1  3750.0000 0.3000   \n",
       "\n",
       "     Pips      P/L  \n",
       "0 48.9328 104.0684  \n",
       "1 38.8000  14.2500  \n",
       "2 36.9571 204.3801  \n",
       "3 34.3283 189.5204  \n",
       "5 62.4000  23.1000  "
      ]
     },
     "execution_count": 242,
     "metadata": {},
     "output_type": "execute_result"
    }
   ],
   "source": [
    "long.head(5)"
   ]
  },
  {
   "cell_type": "code",
   "execution_count": 243,
   "metadata": {},
   "outputs": [],
   "source": [
    "#long.to_csv(os.getcwd()+'\\\\eurusd_long.csv')\n",
    "long = pd.read_csv(os.getcwd()+'\\\\eurusd_long.csv', index_col=0)"
   ]
  },
  {
   "cell_type": "code",
   "execution_count": 245,
   "metadata": {
    "scrolled": false
   },
   "outputs": [
    {
     "data": {
      "image/png": "[encoded data removed]",
      "text/plain": [
       "<Figure size 1296x576 with 1 Axes>"
      ]
     },
     "metadata": {},
     "output_type": "display_data"
    }
   ],
   "source": [
    "import matplotlib.pyplot as plt\n",
    " \n",
    "plt.style.use('ggplot')\n",
    "\n",
    "PL = pd.Series(np.cumsum(long[\"P/L\"]))\n",
    "\n",
    "\n",
    "plt.figure(figsize=(18, 8), facecolor='w', edgecolor='k');\n",
    "PL.plot(color='blue');\n",
    "plt.title(\"P/L of Longs using the Envelope Strategy\", loc='center', pad=None)\n",
    "plt.ylabel(\"Equity\");\n",
    "plt.xlabel(\"Number of Trades\");\n",
    "plt.rcParams.update({'font.size': 30})"
   ]
  },
  {
   "cell_type": "markdown",
   "metadata": {},
   "source": [
    "## Stats"
   ]
  },
  {
   "cell_type": "code",
   "execution_count": 246,
   "metadata": {},
   "outputs": [
    {
     "data": {
      "text/plain": [
       "'2010-01-05 12:40:00'"
      ]
     },
     "execution_count": 246,
     "metadata": {},
     "output_type": "execute_result"
    }
   ],
   "source": [
    "long[\"Time\"].loc[long[\"TradeExecuted\"].idxmax()]"
   ]
  },
  {
   "cell_type": "code",
   "execution_count": 247,
   "metadata": {},
   "outputs": [
    {
     "data": {
      "text/plain": [
       "527.8030151367242"
      ]
     },
     "execution_count": 247,
     "metadata": {},
     "output_type": "execute_result"
    }
   ],
   "source": [
    "long[\"P/L\"].loc[long[\"P/L\"].idxmax()]"
   ]
  },
  {
   "cell_type": "code",
   "execution_count": 248,
   "metadata": {},
   "outputs": [
    {
     "data": {
      "text/plain": [
       "-2008.7487762451074"
      ]
     },
     "execution_count": 248,
     "metadata": {},
     "output_type": "execute_result"
    }
   ],
   "source": [
    "long[\"P/L\"].loc[long[\"P/L\"].idxmin()]"
   ]
  },
  {
   "cell_type": "code",
   "execution_count": 249,
   "metadata": {
    "scrolled": false
   },
   "outputs": [
    {
     "data": {
      "text/html": [
       "<div>\n",
       "<style scoped>\n",
       "    .dataframe tbody tr th:only-of-type {\n",
       "        vertical-align: middle;\n",
       "    }\n",
       "\n",
       "    .dataframe tbody tr th {\n",
       "        vertical-align: top;\n",
       "    }\n",
       "\n",
       "    .dataframe thead th {\n",
       "        text-align: right;\n",
       "    }\n",
       "</style>\n",
       "<table border=\"1\" class=\"dataframe\">\n",
       "  <thead>\n",
       "    <tr style=\"text-align: right;\">\n",
       "      <th></th>\n",
       "      <th>Count</th>\n",
       "      <th>P/L</th>\n",
       "    </tr>\n",
       "    <tr>\n",
       "      <th>TradeExecuted</th>\n",
       "      <th></th>\n",
       "      <th></th>\n",
       "    </tr>\n",
       "  </thead>\n",
       "  <tbody>\n",
       "    <tr>\n",
       "      <th>1</th>\n",
       "      <td>310</td>\n",
       "      <td>17.9000</td>\n",
       "    </tr>\n",
       "    <tr>\n",
       "      <th>2</th>\n",
       "      <td>210</td>\n",
       "      <td>38.0000</td>\n",
       "    </tr>\n",
       "    <tr>\n",
       "      <th>3</th>\n",
       "      <td>212</td>\n",
       "      <td>56.3000</td>\n",
       "    </tr>\n",
       "    <tr>\n",
       "      <th>4</th>\n",
       "      <td>154</td>\n",
       "      <td>78.6000</td>\n",
       "    </tr>\n",
       "    <tr>\n",
       "      <th>5</th>\n",
       "      <td>144</td>\n",
       "      <td>104.4000</td>\n",
       "    </tr>\n",
       "    <tr>\n",
       "      <th>6</th>\n",
       "      <td>98</td>\n",
       "      <td>144.8000</td>\n",
       "    </tr>\n",
       "    <tr>\n",
       "      <th>7</th>\n",
       "      <td>477</td>\n",
       "      <td>-134.8000</td>\n",
       "    </tr>\n",
       "  </tbody>\n",
       "</table>\n",
       "</div>"
      ],
      "text/plain": [
       "               Count       P/L\n",
       "TradeExecuted                 \n",
       "1                310   17.9000\n",
       "2                210   38.0000\n",
       "3                212   56.3000\n",
       "4                154   78.6000\n",
       "5                144  104.4000\n",
       "6                 98  144.8000\n",
       "7                477 -134.8000"
      ]
     },
     "execution_count": 249,
     "metadata": {},
     "output_type": "execute_result"
    }
   ],
   "source": [
    "countEntries = long.groupby(\"TradeExecuted\")[\"P/L\"].count()\n",
    "avgPL = long.groupby(\"TradeExecuted\")[\"P/L\"].mean()\n",
    "avgPL = round(avgPL,1)\n",
    "data = {\"Count\": countEntries, \"P/L\": avgPL}\n",
    "stats=pd.DataFrame(data)\n",
    "stats"
   ]
  },
  {
   "cell_type": "code",
   "execution_count": 250,
   "metadata": {},
   "outputs": [
    {
     "name": "stdout",
     "output_type": "stream",
     "text": [
      "1605\n",
      "575\n"
     ]
    }
   ],
   "source": [
    "print(stats[\"Count\"].sum())\n",
    "print(stats[\"Count\"][stats.index>5].sum())"
   ]
  },
  {
   "cell_type": "code",
   "execution_count": 251,
   "metadata": {},
   "outputs": [],
   "source": [
    "import matplotlib.pyplot as plt\n",
    " \n",
    "plt.style.use('ggplot')"
   ]
  },
  {
   "cell_type": "code",
   "execution_count": 266,
   "metadata": {
    "scrolled": false
   },
   "outputs": [
    {
     "data": {
      "image/png": "[encoded data removed]",
      "text/plain": [
       "<Figure size 1008x432 with 1 Axes>"
      ]
     },
     "metadata": {},
     "output_type": "display_data"
    }
   ],
   "source": [
    "plt.figure(figsize=(14, 6))\n",
    "# Create bars\n",
    "ind = np.arange(len(stats)) \n",
    "plt.bar(ind ,stats[\"P/L\"], color=\"blue\", width=0.6)\n",
    "\n",
    "plt.xticks(ind, ('1', '2', '3', '4', '5','6', '7'))\n",
    "plt.xlabel(\"Entries Executed\")\n",
    "plt.ylabel(\"P/L\")\n",
    "plt.title(\"Average P/L by how many entries have been executed\")\n",
    "\n",
    "plt.rcParams.update({'font.size': 14})\n",
    "\n",
    "# Show graphic\n",
    "plt.show()\n"
   ]
  },
  {
   "cell_type": "code",
   "execution_count": 263,
   "metadata": {},
   "outputs": [
    {
     "data": {
      "text/plain": [
       "TradeExecuted\n",
       "1    18.0612\n",
       "2    38.2102\n",
       "3    58.1528\n",
       "4    81.5864\n",
       "5   108.6861\n",
       "6   146.5471\n",
       "7   131.8711\n",
       "Name: P/L, dtype: float64"
      ]
     },
     "execution_count": 263,
     "metadata": {},
     "output_type": "execute_result"
    }
   ],
   "source": [
    "positive = long[long[\"P/L\"]>0]\n",
    "positive = positive.groupby(\"TradeExecuted\")[\"P/L\"].mean()\n",
    "positive"
   ]
  },
  {
   "cell_type": "code",
   "execution_count": 264,
   "metadata": {},
   "outputs": [
    {
     "data": {
      "text/plain": [
       "TradeExecuted\n",
       "1     -1.8187\n",
       "2     -3.5906\n",
       "3    -19.3519\n",
       "4    -11.7311\n",
       "5    -45.1397\n",
       "6    -21.4245\n",
       "7   -346.3037\n",
       "Name: P/L, dtype: float64"
      ]
     },
     "execution_count": 264,
     "metadata": {},
     "output_type": "execute_result"
    }
   ],
   "source": [
    "negative = long[long[\"P/L\"]<0]\n",
    "negative = negative.groupby(\"TradeExecuted\")[\"P/L\"].mean()\n",
    "negative"
   ]
  },
  {
   "cell_type": "code",
   "execution_count": 267,
   "metadata": {
    "scrolled": false
   },
   "outputs": [
    {
     "data": {
      "image/png": "[encoded data removed]",
      "text/plain": [
       "<Figure size 1008x432 with 1 Axes>"
      ]
     },
     "metadata": {},
     "output_type": "display_data"
    }
   ],
   "source": [
    "plt.figure(figsize=(14, 6))\n",
    "ind = np.arange(len(positive)) \n",
    "width = 0.35       \n",
    "plt.bar(ind, positive, width, label='Positive P/L', color=\"blue\")\n",
    "plt.bar(ind + width, abs(negative), width, label='Negative P/L', color=\"red\")\n",
    "\n",
    "plt.ylabel('P/L')\n",
    "plt.xlabel(\"Entries Executed\")\n",
    "plt.title('P/L by entries executed and sign of the outcome')\n",
    "\n",
    "plt.xticks(ind + width / 2, ('1', '2', '3', '4', '5','6', '7'))\n",
    "plt.legend(loc='best')\n",
    "\n",
    "plt.rcParams.update({'font.size': 14})\n",
    "\n",
    "plt.show()"
   ]
  }
 ],
 "metadata": {
  "kernelspec": {
   "display_name": "Python 3",
   "language": "python",
   "name": "python3"
  },
  "language_info": {
   "codemirror_mode": {
    "name": "ipython",
    "version": 3
   },
   "file_extension": ".py",
   "mimetype": "text/x-python",
   "name": "python",
   "nbconvert_exporter": "python",
   "pygments_lexer": "ipython3",
   "version": "3.7.1"
  }
 },
 "nbformat": 4,
 "nbformat_minor": 2
}
