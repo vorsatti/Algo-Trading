{
 "cells": [
  {
   "cell_type": "code",
   "execution_count": 11,
   "metadata": {},
   "outputs": [],
   "source": [
    "import numpy as np\n",
    "import pandas as pd\n",
    "from pandas import options\n",
    "import warnings\n",
    "options.mode.chained_assignment = None\n",
    "import oandapyV20\n",
    "import oandapyV20.endpoints.instruments as instruments\n",
    "import matplotlib.dates as mpl_dates\n",
    "import matplotlib.pyplot as plt\n",
    "from mpl_finance import candlestick_ohlc\n",
    "import datetime\n",
    "import zulu\n",
    "import os\n",
    "pd.set_option('display.float_format', '{:.4f}'.format)\n",
    "import operator as op\n",
    "from functools import reduce\n",
    "from sklearn.model_selection import ParameterGrid\n",
    "\n",
    "ID = '101-004-9949998-001'\n",
    "token = '4900a27fe17ab573d490ce234465329f-6633f44d08bf25b48ceaacd2c7917674'\n",
    "\n",
    "client = oandapyV20.API(access_token=token)"
   ]
  },
  {
   "cell_type": "code",
   "execution_count": 2,
   "metadata": {},
   "outputs": [],
   "source": [
    "# Loop to create the dataset\n",
    "Date = pd.Series(datetime.datetime(2010, 1, 1, 0, 0, 0))\n",
    "eurusd = pd.DataFrame()\n",
    "\n",
    "\n",
    "while Date.iloc[-1].year != 2020 or Date.iloc[-1].month != 5:\n",
    "    \n",
    "    last = Date.iloc[-1]\n",
    "    inizio = last + datetime.timedelta(minutes=5)\n",
    "    inizio = zulu.create(inizio.year, inizio.month, inizio.day, inizio.hour, inizio.minute)\n",
    "    inizio = inizio.isoformat('T')+'Z'\n",
    "    inizio = str(inizio[:-8] + 'Z')\n",
    "\n",
    "    params = {\n",
    "            \"from\": inizio,\n",
    "            \"granularity\": \"M5\"}\n",
    "\n",
    "    r = instruments.InstrumentsCandles(instrument=\"EUR_USD\",\n",
    "                                       params=params)\n",
    "\n",
    "    rv = client.request(r)\n",
    "\n",
    "    newDat = []\n",
    "    for oo in r.response['candles']:\n",
    "        newDat.append([oo['time'], oo['mid']['o'], oo['mid']['h'], oo['mid']['l'], oo['mid']['c']])\n",
    "    \n",
    "    newEurusd = pd.DataFrame(newDat)\n",
    "    newEurusd.columns = ['Time', 'Open', 'High', 'Low', 'Close']\n",
    "    newEurusd[\"Time\"] = pd.to_datetime(newEurusd['Time'])\n",
    "    Date = Date.append(newEurusd['Time'])\n",
    "    eurusd = eurusd.append(newEurusd)"
   ]
  },
  {
   "cell_type": "code",
   "execution_count": 12,
   "metadata": {},
   "outputs": [],
   "source": [
    "#eurusd.to_csv(os.getcwd()+'\\\\eurusd5min.csv')\n",
    "eurusd = pd.read_csv(os.getcwd()+'\\\\eurusd5min.csv', index_col=0)"
   ]
  },
  {
   "cell_type": "markdown",
   "metadata": {},
   "source": [
    "### Long"
   ]
  },
  {
   "cell_type": "code",
   "execution_count": 13,
   "metadata": {},
   "outputs": [
    {
     "data": {
      "text/plain": [
       "45220.5"
      ]
     },
     "execution_count": 13,
     "metadata": {},
     "output_type": "execute_result"
    }
   ],
   "source": [
    "# Due to my account equity, it's unrealistic that I will be able to average down my entry opening 30 trades\n",
    "size=3000\n",
    "sizeList = []\n",
    "for i in range(7):\n",
    "    sizeList.append(size)\n",
    "    size = size*1.25\n",
    "\n",
    "round(sum(sizeList),1)"
   ]
  },
  {
   "cell_type": "code",
   "execution_count": 14,
   "metadata": {
    "scrolled": true
   },
   "outputs": [],
   "source": [
    "def Backtesting(emaPeriod, emaWidth, maxEntries, size, incrementSize, entryDistance, exit, data=eurusd):\n",
    "    \n",
    "    # Exponential Moving Averages\n",
    "    data[\"ema40\"] = data[\"Close\"].ewm(span=emaPeriod, min_periods=emaPeriod, adjust=False).mean()\n",
    "    deviation = emaWidth/100\n",
    "    data[\"UL\"] = data[\"ema40\"] + (data[\"ema40\"] * deviation)\n",
    "    data[\"LL\"] = data[\"ema40\"] - (data[\"ema40\"] * deviation)\n",
    "    \n",
    "    data = data.iloc[emaPeriod-1:]\n",
    "    data.index = range(data.shape[0])\n",
    "    \n",
    "    data[\"buyTrigger\"] = 0\n",
    "    data[\"buyWin\"] = 0 \n",
    "    data[\"sellTrigger\"] = 0 \n",
    "    data[\"sellWin\"] = 0 \n",
    "    \n",
    "    # Envelopes\n",
    "    if exit==\"greedy\":\n",
    "    \n",
    "        data[\"buyTrigger\"] = np.where(data[\"Close\"] < data[\"LL\"], 1,0)\n",
    "        data[\"buyWin\"] = np.where(data[\"Close\"] > data[\"UL\"], 1,0)\n",
    "        data[\"sellTrigger\"] = np.where(data[\"Close\"] > data[\"UL\"], 1,0)\n",
    "        data[\"sellWin\"] = np.where(data[\"Close\"] < data[\"LL\"], 1,0)\n",
    "        \n",
    "    elif exit==\"spartan\":\n",
    "\n",
    "        data[\"buyTrigger\"] = np.where(data[\"Close\"] < data[\"LL\"], 1,0)\n",
    "        data[\"buyWin\"] = np.where(data[\"Close\"] > data[\"ema40\"], 1,0)\n",
    "        data[\"sellTrigger\"] = np.where(data[\"Close\"] > data[\"UL\"], 1,0)\n",
    "        data[\"sellWin\"] = np.where(data[\"Close\"] < data[\"ema40\"], 1,0)\n",
    "        \n",
    "    \n",
    "    eurusdBuy = data.drop([\"sellTrigger\",\"sellWin\"], axis=1)\n",
    "    eurusdSell = data.drop([\"buyTrigger\",\"buyWin\"], axis=1)\n",
    "    \n",
    "    splits = np.append(np.where(np.diff(eurusdBuy[\"buyWin\"]) != 0)[0]+1,len(eurusdBuy[\"buyWin\"]))\n",
    "    prev = 0\n",
    "    price = []\n",
    "    exit = []\n",
    "    totSize = []\n",
    "    tradeCount = []\n",
    "    time = []\n",
    "    totFees = []\n",
    "    maxEntriesPerTrade = maxEntries\n",
    "    totProfit = 0\n",
    "\n",
    "    for split in splits[:-2]:\n",
    "    \n",
    "        indici = []\n",
    "        indiciWhereBuy = []\n",
    "        entryList = []\n",
    "        sizeList = []\n",
    "        fees = []\n",
    "        sizePerTrade=size\n",
    "    \n",
    "        indici = np.arange(0,eurusdBuy[\"buyTrigger\"].size,1)[prev:split]\n",
    "        indiciWhereBuy = np.where(eurusdBuy[\"buyTrigger\"].loc[indici]==1)[0]\n",
    "        indiciWhereBuy = indiciWhereBuy + prev\n",
    "        if len(indiciWhereBuy)>0:\n",
    "            lastEntry = eurusdBuy[\"Close\"].loc[indiciWhereBuy[0]] + (entryDistance+1)/10000\n",
    "            countEntries = 0\n",
    "            for i in range(len(indiciWhereBuy)-1):\n",
    "                if eurusdBuy[\"Close\"].loc[indiciWhereBuy[i+1]] < lastEntry - entryDistance/10000:\n",
    "                    countEntries = countEntries + 1\n",
    "                    if countEntries <= maxEntriesPerTrade:  \n",
    "                        lastEntry = eurusdBuy[\"Close\"].loc[indiciWhereBuy[i+1]]\n",
    "                        sizePerTrade=sizePerTrade*incrementSize\n",
    "                        entryList.append(lastEntry * sizePerTrade)\n",
    "                        sizeList.append(sizePerTrade)\n",
    "                        fees.append(sizePerTrade*0.00008)\n",
    "                    else:\n",
    "                        i = len(indiciWhereBuy)-1\n",
    "        \n",
    "            price.append(sum(entryList))\n",
    "            totSize.append(sum(sizeList))\n",
    "            tradeCount.append(len(entryList))\n",
    "            exit.append(eurusdBuy[\"High\"][split])\n",
    "            totFees.append(sum(fees))\n",
    "            time.append(eurusdBuy[\"Time\"].loc[prev])\n",
    "    \n",
    "            prev = split\n",
    "        \n",
    "    data = {\"Time\": time, 'Price':price, 'Exit':exit, 'TradeExecuted':tradeCount, 'Size':totSize, \"Fees\":totFees}\n",
    "    long = pd.DataFrame(data=data, index=range(len(time)))\n",
    "\n",
    "    long = long[long[\"TradeExecuted\"]!=0]\n",
    "\n",
    "    long[\"AveragePrice\"] = long[\"Price\"]/long[\"Size\"]\n",
    "    long = long[[\"Time\", \"AveragePrice\", 'Exit', 'TradeExecuted', 'Size', \"Fees\"]]\n",
    "    long['Pips'] = (long[\"Exit\"] - long[\"AveragePrice\"])*10000\n",
    "    long[\"P/L\"] = long[\"Size\"]*(long[\"Exit\"] - long[\"AveragePrice\"])-long[\"Fees\"]\n",
    "    \n",
    "    totProfit = round(long[\"P/L\"].sum())\n",
    "        \n",
    "    return long, totProfit"
   ]
  },
  {
   "cell_type": "code",
   "execution_count": 61,
   "metadata": {},
   "outputs": [
    {
     "name": "stdout",
     "output_type": "stream",
     "text": [
      "Number of parameters combination: 12\n"
     ]
    }
   ],
   "source": [
    "param_grid = {'emaPeriod': [21, 40, 200],\n",
    "              'emaWidth': [0.15, 0.3],\n",
    "              'maxEntries': [7], \n",
    "              'size' : [1000], \n",
    "              'incrementSize': [1.25], \n",
    "              'entryDistance' : [7],\n",
    "              'exit': ['greedy', 'spartan']}\n",
    "\n",
    "grid = ParameterGrid(param_grid)\n",
    "comb = len(grid)\n",
    "print('Number of parameters combination: '+ str(int(comb)))"
   ]
  },
  {
   "cell_type": "code",
   "execution_count": 62,
   "metadata": {},
   "outputs": [
    {
     "name": "stdout",
     "output_type": "stream",
     "text": [
      "1 of 12\n",
      "2 of 12\n",
      "3 of 12\n",
      "4 of 12\n",
      "5 of 12\n",
      "6 of 12\n",
      "7 of 12\n",
      "8 of 12\n",
      "9 of 12\n",
      "10 of 12\n",
      "11 of 12\n",
      "12 of 12\n"
     ]
    }
   ],
   "source": [
    "PLdictionary = {}\n",
    "z = 1\n",
    "\n",
    "for params in grid:\n",
    "    long, totProfit = Backtesting(params['emaPeriod'], \n",
    "                                  params['emaWidth'], \n",
    "                                  params['maxEntries'], \n",
    "                                  params['size'], \n",
    "                                  params['incrementSize'], \n",
    "                                  params['entryDistance'],\n",
    "                                  params['exit'],\n",
    "                                  data=eurusd)\n",
    "    PLdictionary[z] = params\n",
    "    PLdictionary[z][\"PL\"] = totProfit\n",
    "    print(str(z) + ' of ' + str(int(int(comb))))\n",
    "    z = z + 1"
   ]
  },
  {
   "cell_type": "code",
   "execution_count": 63,
   "metadata": {},
   "outputs": [
    {
     "name": "stdout",
     "output_type": "stream",
     "text": [
      "{'emaPeriod': 40, 'emaWidth': 0.15, 'entryDistance': 7, 'exit': 'spartan', 'incrementSize': 1.25, 'maxEntries': 7, 'size': 1000, 'PL': 1852.0}\n"
     ]
    }
   ],
   "source": [
    "#Best performance\n",
    "maxpl=0\n",
    "for i in np.arange(1,len(PLdictionary)+1):\n",
    "    pl = PLdictionary[i][\"PL\"]\n",
    "    if pl>maxpl:\n",
    "        maxpl = pl\n",
    "        dictNumber = i\n",
    "print(PLdictionary[dictNumber])"
   ]
  },
  {
   "cell_type": "code",
   "execution_count": 65,
   "metadata": {},
   "outputs": [],
   "source": [
    "long, totProfit = Backtesting(data=eurusd, emaPeriod=40, emaWidth=0.15, maxEntries=7, size=1000, incrementSize=1.25, \n",
    "                              entryDistance=7, exit='spartan')"
   ]
  },
  {
   "cell_type": "code",
   "execution_count": 66,
   "metadata": {},
   "outputs": [
    {
     "data": {
      "text/html": [
       "<div>\n",
       "<style scoped>\n",
       "    .dataframe tbody tr th:only-of-type {\n",
       "        vertical-align: middle;\n",
       "    }\n",
       "\n",
       "    .dataframe tbody tr th {\n",
       "        vertical-align: top;\n",
       "    }\n",
       "\n",
       "    .dataframe thead th {\n",
       "        text-align: right;\n",
       "    }\n",
       "</style>\n",
       "<table border=\"1\" class=\"dataframe\">\n",
       "  <thead>\n",
       "    <tr style=\"text-align: right;\">\n",
       "      <th></th>\n",
       "      <th>Time</th>\n",
       "      <th>AveragePrice</th>\n",
       "      <th>Exit</th>\n",
       "      <th>TradeExecuted</th>\n",
       "      <th>Size</th>\n",
       "      <th>Fees</th>\n",
       "      <th>Pips</th>\n",
       "      <th>P/L</th>\n",
       "    </tr>\n",
       "  </thead>\n",
       "  <tbody>\n",
       "    <tr>\n",
       "      <th>0</th>\n",
       "      <td>2010-01-03 21:05:00</td>\n",
       "      <td>1.4276</td>\n",
       "      <td>1.4292</td>\n",
       "      <td>3</td>\n",
       "      <td>4765.6250</td>\n",
       "      <td>0.3812</td>\n",
       "      <td>15.9754</td>\n",
       "      <td>7.2320</td>\n",
       "    </tr>\n",
       "    <tr>\n",
       "      <th>1</th>\n",
       "      <td>2010-01-04 02:50:00</td>\n",
       "      <td>1.4413</td>\n",
       "      <td>1.4438</td>\n",
       "      <td>1</td>\n",
       "      <td>1250.0000</td>\n",
       "      <td>0.1000</td>\n",
       "      <td>24.4000</td>\n",
       "      <td>2.9500</td>\n",
       "    </tr>\n",
       "    <tr>\n",
       "      <th>2</th>\n",
       "      <td>2010-01-05 09:50:00</td>\n",
       "      <td>1.4393</td>\n",
       "      <td>1.4423</td>\n",
       "      <td>1</td>\n",
       "      <td>1250.0000</td>\n",
       "      <td>0.1000</td>\n",
       "      <td>30.0000</td>\n",
       "      <td>3.6500</td>\n",
       "    </tr>\n",
       "    <tr>\n",
       "      <th>3</th>\n",
       "      <td>2010-01-05 15:00:00</td>\n",
       "      <td>1.4362</td>\n",
       "      <td>1.4373</td>\n",
       "      <td>3</td>\n",
       "      <td>4765.6250</td>\n",
       "      <td>0.3812</td>\n",
       "      <td>11.1000</td>\n",
       "      <td>4.9086</td>\n",
       "    </tr>\n",
       "    <tr>\n",
       "      <th>4</th>\n",
       "      <td>2010-01-05 21:25:00</td>\n",
       "      <td>1.4336</td>\n",
       "      <td>1.4359</td>\n",
       "      <td>1</td>\n",
       "      <td>1250.0000</td>\n",
       "      <td>0.1000</td>\n",
       "      <td>22.6000</td>\n",
       "      <td>2.7250</td>\n",
       "    </tr>\n",
       "  </tbody>\n",
       "</table>\n",
       "</div>"
      ],
      "text/plain": [
       "                  Time  AveragePrice   Exit  TradeExecuted      Size   Fees  \\\n",
       "0  2010-01-03 21:05:00        1.4276 1.4292              3 4765.6250 0.3812   \n",
       "1  2010-01-04 02:50:00        1.4413 1.4438              1 1250.0000 0.1000   \n",
       "2  2010-01-05 09:50:00        1.4393 1.4423              1 1250.0000 0.1000   \n",
       "3  2010-01-05 15:00:00        1.4362 1.4373              3 4765.6250 0.3812   \n",
       "4  2010-01-05 21:25:00        1.4336 1.4359              1 1250.0000 0.1000   \n",
       "\n",
       "     Pips    P/L  \n",
       "0 15.9754 7.2320  \n",
       "1 24.4000 2.9500  \n",
       "2 30.0000 3.6500  \n",
       "3 11.1000 4.9086  \n",
       "4 22.6000 2.7250  "
      ]
     },
     "execution_count": 66,
     "metadata": {},
     "output_type": "execute_result"
    }
   ],
   "source": [
    "long.head(5)"
   ]
  },
  {
   "cell_type": "code",
   "execution_count": 67,
   "metadata": {},
   "outputs": [],
   "source": [
    "#long.to_csv(os.getcwd()+'\\\\eurusd_long.csv')\n",
    "long = pd.read_csv(os.getcwd()+'\\\\eurusd_long.csv', index_col=0)"
   ]
  },
  {
   "cell_type": "code",
   "execution_count": 68,
   "metadata": {
    "scrolled": false
   },
   "outputs": [
    {
     "data": {
      "image/png": "[encoded data removed]",
      "text/plain": [
       "<Figure size 1296x576 with 1 Axes>"
      ]
     },
     "metadata": {},
     "output_type": "display_data"
    }
   ],
   "source": [
    "import matplotlib.pyplot as plt\n",
    " \n",
    "plt.style.use('ggplot')\n",
    "\n",
    "PL = pd.Series(np.cumsum(long[\"P/L\"]))\n",
    "\n",
    "\n",
    "plt.figure(figsize=(18, 8), facecolor='w', edgecolor='k');\n",
    "PL.plot(color='blue');\n",
    "plt.title(\"P/L of Longs using the Envelope Strategy\", loc='center', pad=None)\n",
    "plt.ylabel(\"Equity\");\n",
    "plt.xlabel(\"Number of Trades\");\n",
    "plt.rcParams.update({'font.size': 30})"
   ]
  },
  {
   "cell_type": "markdown",
   "metadata": {},
   "source": [
    "## Stats"
   ]
  },
  {
   "cell_type": "code",
   "execution_count": 69,
   "metadata": {},
   "outputs": [
    {
     "data": {
      "text/plain": [
       "'2010-01-15 12:35:00'"
      ]
     },
     "execution_count": 69,
     "metadata": {},
     "output_type": "execute_result"
    }
   ],
   "source": [
    "long[\"Time\"].loc[long[\"TradeExecuted\"].idxmax()]"
   ]
  },
  {
   "cell_type": "code",
   "execution_count": 70,
   "metadata": {},
   "outputs": [
    {
     "data": {
      "text/plain": [
       "104.41875610351441"
      ]
     },
     "execution_count": 70,
     "metadata": {},
     "output_type": "execute_result"
    }
   ],
   "source": [
    "long[\"P/L\"].loc[long[\"P/L\"].idxmax()]"
   ]
  },
  {
   "cell_type": "code",
   "execution_count": 71,
   "metadata": {},
   "outputs": [
    {
     "data": {
      "text/plain": [
       "-439.5746063232426"
      ]
     },
     "execution_count": 71,
     "metadata": {},
     "output_type": "execute_result"
    }
   ],
   "source": [
    "long[\"P/L\"].loc[long[\"P/L\"].idxmin()]"
   ]
  },
  {
   "cell_type": "code",
   "execution_count": 72,
   "metadata": {
    "scrolled": false
   },
   "outputs": [
    {
     "data": {
      "text/html": [
       "<div>\n",
       "<style scoped>\n",
       "    .dataframe tbody tr th:only-of-type {\n",
       "        vertical-align: middle;\n",
       "    }\n",
       "\n",
       "    .dataframe tbody tr th {\n",
       "        vertical-align: top;\n",
       "    }\n",
       "\n",
       "    .dataframe thead th {\n",
       "        text-align: right;\n",
       "    }\n",
       "</style>\n",
       "<table border=\"1\" class=\"dataframe\">\n",
       "  <thead>\n",
       "    <tr style=\"text-align: right;\">\n",
       "      <th></th>\n",
       "      <th>Count</th>\n",
       "      <th>P/L</th>\n",
       "    </tr>\n",
       "    <tr>\n",
       "      <th>TradeExecuted</th>\n",
       "      <th></th>\n",
       "      <th></th>\n",
       "    </tr>\n",
       "  </thead>\n",
       "  <tbody>\n",
       "    <tr>\n",
       "      <th>1</th>\n",
       "      <td>1071</td>\n",
       "      <td>2.5000</td>\n",
       "    </tr>\n",
       "    <tr>\n",
       "      <th>2</th>\n",
       "      <td>587</td>\n",
       "      <td>4.7000</td>\n",
       "    </tr>\n",
       "    <tr>\n",
       "      <th>3</th>\n",
       "      <td>386</td>\n",
       "      <td>6.6000</td>\n",
       "    </tr>\n",
       "    <tr>\n",
       "      <th>4</th>\n",
       "      <td>245</td>\n",
       "      <td>7.1000</td>\n",
       "    </tr>\n",
       "    <tr>\n",
       "      <th>5</th>\n",
       "      <td>149</td>\n",
       "      <td>8.1000</td>\n",
       "    </tr>\n",
       "    <tr>\n",
       "      <th>6</th>\n",
       "      <td>85</td>\n",
       "      <td>7.6000</td>\n",
       "    </tr>\n",
       "    <tr>\n",
       "      <th>7</th>\n",
       "      <td>204</td>\n",
       "      <td>-47.5000</td>\n",
       "    </tr>\n",
       "  </tbody>\n",
       "</table>\n",
       "</div>"
      ],
      "text/plain": [
       "               Count      P/L\n",
       "TradeExecuted                \n",
       "1               1071   2.5000\n",
       "2                587   4.7000\n",
       "3                386   6.6000\n",
       "4                245   7.1000\n",
       "5                149   8.1000\n",
       "6                 85   7.6000\n",
       "7                204 -47.5000"
      ]
     },
     "execution_count": 72,
     "metadata": {},
     "output_type": "execute_result"
    }
   ],
   "source": [
    "countEntries = long.groupby(\"TradeExecuted\")[\"P/L\"].count()\n",
    "avgPL = long.groupby(\"TradeExecuted\")[\"P/L\"].mean()\n",
    "avgPL = round(avgPL,1)\n",
    "data = {\"Count\": countEntries, \"P/L\": avgPL}\n",
    "stats=pd.DataFrame(data)\n",
    "stats"
   ]
  },
  {
   "cell_type": "code",
   "execution_count": 74,
   "metadata": {},
   "outputs": [],
   "source": [
    "import matplotlib.pyplot as plt\n",
    " \n",
    "plt.style.use('ggplot')"
   ]
  },
  {
   "cell_type": "code",
   "execution_count": 76,
   "metadata": {
    "scrolled": false
   },
   "outputs": [
    {
     "data": {
      "image/png": "[encoded data removed]",
      "text/plain": [
       "<Figure size 1008x432 with 1 Axes>"
      ]
     },
     "metadata": {},
     "output_type": "display_data"
    }
   ],
   "source": [
    "plt.figure(figsize=(14, 6))\n",
    "# Create bars\n",
    "ind = np.arange(len(stats)) \n",
    "plt.bar(ind ,stats[\"P/L\"], color=\"blue\", width=0.6)\n",
    "\n",
    "plt.xticks(ind, ('1', '2', '3', '4', '5','6', '7'))\n",
    "plt.xlabel(\"Entries Executed\")\n",
    "plt.ylabel(\"P/L\")\n",
    "plt.title(\"Average P/L by how many entries have been executed\")\n",
    "\n",
    "plt.rcParams.update({'font.size': 14})\n",
    "\n",
    "# Show graphic\n",
    "plt.show()\n"
   ]
  },
  {
   "cell_type": "code",
   "execution_count": 77,
   "metadata": {},
   "outputs": [
    {
     "data": {
      "text/plain": [
       "TradeExecuted\n",
       "1    2.5485\n",
       "2    5.1725\n",
       "3    7.6182\n",
       "4    9.6958\n",
       "5   15.8569\n",
       "6   15.3437\n",
       "7   25.3229\n",
       "Name: P/L, dtype: float64"
      ]
     },
     "execution_count": 77,
     "metadata": {},
     "output_type": "execute_result"
    }
   ],
   "source": [
    "positive = long[long[\"P/L\"]>0]\n",
    "positive = positive.groupby(\"TradeExecuted\")[\"P/L\"].mean()\n",
    "positive"
   ]
  },
  {
   "cell_type": "code",
   "execution_count": 78,
   "metadata": {},
   "outputs": [
    {
     "data": {
      "text/plain": [
       "TradeExecuted\n",
       "1    -0.6517\n",
       "2    -1.2786\n",
       "3    -2.8608\n",
       "4    -3.8458\n",
       "5    -7.1293\n",
       "6   -12.0294\n",
       "7   -66.9100\n",
       "Name: P/L, dtype: float64"
      ]
     },
     "execution_count": 78,
     "metadata": {},
     "output_type": "execute_result"
    }
   ],
   "source": [
    "negative = long[long[\"P/L\"]<0]\n",
    "negative = negative.groupby(\"TradeExecuted\")[\"P/L\"].mean()\n",
    "negative"
   ]
  },
  {
   "cell_type": "code",
   "execution_count": 79,
   "metadata": {
    "scrolled": false
   },
   "outputs": [
    {
     "data": {
      "image/png": "[encoded data removed]",
      "text/plain": [
       "<Figure size 1008x432 with 1 Axes>"
      ]
     },
     "metadata": {},
     "output_type": "display_data"
    }
   ],
   "source": [
    "plt.figure(figsize=(14, 6))\n",
    "ind = np.arange(len(positive)) \n",
    "width = 0.35       \n",
    "plt.bar(ind, positive, width, label='Positive P/L', color=\"blue\")\n",
    "plt.bar(ind + width, abs(negative), width, label='Negative P/L', color=\"red\")\n",
    "\n",
    "plt.ylabel('P/L')\n",
    "plt.xlabel(\"Entries Executed\")\n",
    "plt.title('P/L by entries executed and sign of the outcome')\n",
    "\n",
    "plt.xticks(ind + width / 2, ('1', '2', '3', '4', '5','6', '7'))\n",
    "plt.legend(loc='best')\n",
    "\n",
    "plt.rcParams.update({'font.size': 14})\n",
    "\n",
    "plt.show()"
   ]
  }
 ],
 "metadata": {
  "kernelspec": {
   "display_name": "Python 3",
   "language": "python",
   "name": "python3"
  },
  "language_info": {
   "codemirror_mode": {
    "name": "ipython",
    "version": 3
   },
   "file_extension": ".py",
   "mimetype": "text/x-python",
   "name": "python",
   "nbconvert_exporter": "python",
   "pygments_lexer": "ipython3",
   "version": "3.7.1"
  }
 },
 "nbformat": 4,
 "nbformat_minor": 2
}
